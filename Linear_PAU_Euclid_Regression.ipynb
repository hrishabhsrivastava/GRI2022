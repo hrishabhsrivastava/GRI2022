{
  "nbformat": 4,
  "nbformat_minor": 0,
  "metadata": {
    "colab": {
      "provenance": []
    },
    "kernelspec": {
      "name": "python3",
      "display_name": "Python 3"
    },
    "language_info": {
      "name": "python"
    },
    "accelerator": "GPU",
    "gpuClass": "standard"
  },
  "cells": [
    {
      "cell_type": "markdown",
      "source": [
        "# Data Collection\n",
        "## 1. PAU Narrowband data"
      ],
      "metadata": {
        "id": "1mbEwwUtoV5D"
      }
    },
    {
      "cell_type": "code",
      "execution_count": null,
      "metadata": {
        "id": "arl3J7GioP9k"
      },
      "outputs": [],
      "source": [
        "from astropy.io import fits\n",
        "import pandas as pd\n",
        "import matplotlib.pyplot as plt\n",
        "import numpy as np\n",
        "from scipy import stats\n",
        "from tabulate import tabulate\n",
        "import socket\n",
        "import math"
      ]
    },
    {
      "cell_type": "code",
      "source": [
        "nb = fits.open('/content/sample_data/PAU_narrowband_data_full.fits')"
      ],
      "metadata": {
        "id": "EpnT6TH4o1wc"
      },
      "execution_count": null,
      "outputs": []
    },
    {
      "cell_type": "code",
      "source": [
        "nb[1].header"
      ],
      "metadata": {
        "id": "2CyahakupKfp",
        "colab": {
          "base_uri": "https://localhost:8080/"
        },
        "outputId": "d79d1e01-0d64-4c13-eb7e-73cbdea2a03a"
      },
      "execution_count": null,
      "outputs": [
        {
          "output_type": "execute_result",
          "data": {
            "text/plain": [
              "XTENSION= 'BINTABLE'           / binary table extension                         \n",
              "BITPIX  =                    8 / array data type                                \n",
              "NAXIS   =                    2 / number of array dimensions                     \n",
              "NAXIS1  =                  516 / length of dimension 1                          \n",
              "NAXIS2  =                 6492 / length of dimension 2                          \n",
              "PCOUNT  =                    0 / number of group parameters                     \n",
              "GCOUNT  =                    1 / number of groups                               \n",
              "TFIELDS =                  126 / number of table fields                         \n",
              "TTYPE1  = 'ref_id  '                                                            \n",
              "TFORM1  = 'K       '                                                            \n",
              "TTYPE2  = 'zb      '                                                            \n",
              "TFORM2  = 'E       '                                                            \n",
              "TTYPE3  = 'odds    '                                                            \n",
              "TFORM3  = 'E       '                                                            \n",
              "TTYPE4  = 'pz_width'                                                            \n",
              "TFORM4  = 'E       '                                                            \n",
              "TTYPE5  = 'zb_mean '                                                            \n",
              "TFORM5  = 'E       '                                                            \n",
              "TTYPE6  = 'chi2    '                                                            \n",
              "TFORM6  = 'E       '                                                            \n",
              "TTYPE7  = 'ebv     '                                                            \n",
              "TFORM7  = 'E       '                                                            \n",
              "TTYPE8  = 'qz      '                                                            \n",
              "TFORM8  = 'E       '                                                            \n",
              "TTYPE9  = 'best_run'                                                            \n",
              "TFORM9  = 'J       '                                                            \n",
              "TTYPE10 = 'ra      '                                                            \n",
              "TFORM10 = 'D       '                                                            \n",
              "TTYPE11 = 'dec     '                                                            \n",
              "TFORM11 = 'D       '                                                            \n",
              "TTYPE12 = 'zp_gal  '                                                            \n",
              "TFORM12 = 'E       '                                                            \n",
              "TTYPE13 = 'zl68_gal'                                                            \n",
              "TFORM13 = 'E       '                                                            \n",
              "TTYPE14 = 'zu68_gal'                                                            \n",
              "TFORM14 = 'E       '                                                            \n",
              "TTYPE15 = 'zl99_gal'                                                            \n",
              "TFORM15 = 'E       '                                                            \n",
              "TTYPE16 = 'zu99_gal'                                                            \n",
              "TFORM16 = 'E       '                                                            \n",
              "TTYPE17 = 'zp_sec  '                                                            \n",
              "TFORM17 = 'E       '                                                            \n",
              "TTYPE18 = 'dchi    '                                                            \n",
              "TFORM18 = 'E       '                                                            \n",
              "TTYPE19 = 'imag    '                                                            \n",
              "TFORM19 = 'E       '                                                            \n",
              "TTYPE20 = 'ei      '                                                            \n",
              "TFORM20 = 'E       '                                                            \n",
              "TTYPE21 = 'i_auto  '                                                            \n",
              "TFORM21 = 'E       '                                                            \n",
              "TTYPE22 = 'nbfilt  '                                                            \n",
              "TFORM22 = 'J       '                                                            \n",
              "TTYPE23 = 'mod_gal '                                                            \n",
              "TFORM23 = 'J       '                                                            \n",
              "TTYPE24 = 'type    '                                                            \n",
              "TFORM24 = 'J       '                                                            \n",
              "TTYPE25 = 'umag    '                                                            \n",
              "TFORM25 = 'E       '                                                            \n",
              "TTYPE26 = 'bmag    '                                                            \n",
              "TFORM26 = 'E       '                                                            \n",
              "TTYPE27 = 'vmag    '                                                            \n",
              "TFORM27 = 'E       '                                                            \n",
              "TTYPE28 = 'gmag    '                                                            \n",
              "TFORM28 = 'E       '                                                            \n",
              "TTYPE29 = 'rmag    '                                                            \n",
              "TFORM29 = 'E       '                                                            \n",
              "TTYPE30 = 'zmag    '                                                            \n",
              "TFORM30 = 'E       '                                                            \n",
              "TTYPE31 = 'icmag   '                                                            \n",
              "TFORM31 = 'E       '                                                            \n",
              "TTYPE32 = 'jmag    '                                                            \n",
              "TFORM32 = 'E       '                                                            \n",
              "TTYPE33 = 'kmag    '                                                            \n",
              "TFORM33 = 'E       '                                                            \n",
              "TTYPE34 = 'mv      '                                                            \n",
              "TFORM34 = 'E       '                                                            \n",
              "TTYPE35 = 'ebv_gal '                                                            \n",
              "TFORM35 = 'E       '                                                            \n",
              "TTYPE36 = 'ebv_int '                                                            \n",
              "TFORM36 = 'E       '                                                            \n",
              "TTYPE37 = 'acs_a_image'                                                         \n",
              "TFORM37 = 'E       '                                                            \n",
              "TTYPE38 = 'acs_b_image'                                                         \n",
              "TFORM38 = 'E       '                                                            \n",
              "TTYPE39 = 'acs_theta_image'                                                     \n",
              "TFORM39 = 'E       '                                                            \n",
              "TTYPE40 = 'acs_mag_auto'                                                        \n",
              "TFORM40 = 'E       '                                                            \n",
              "TTYPE41 = 'acs_magerr_auto'                                                     \n",
              "TFORM41 = 'E       '                                                            \n",
              "TTYPE42 = 'zspec   '                                                            \n",
              "TFORM42 = 'E       '                                                            \n",
              "TTYPE43 = 'conf    '                                                            \n",
              "TFORM43 = 'E       '                                                            \n",
              "TTYPE44 = 'f814w   '                                                            \n",
              "TFORM44 = 'E       '                                                            \n",
              "TTYPE45 = 'r50     '                                                            \n",
              "TFORM45 = 'E       '                                                            \n",
              "TTYPE46 = 'sersic_n_gim2d'                                                      \n",
              "TFORM46 = 'E       '                                                            \n",
              "TTYPE47 = 'flux_nb455'                                                          \n",
              "TFORM47 = 'E       '                                                            \n",
              "TTYPE48 = 'flux_nb465'                                                          \n",
              "TFORM48 = 'E       '                                                            \n",
              "TTYPE49 = 'flux_nb475'                                                          \n",
              "TFORM49 = 'E       '                                                            \n",
              "TTYPE50 = 'flux_nb485'                                                          \n",
              "TFORM50 = 'E       '                                                            \n",
              "TTYPE51 = 'flux_nb495'                                                          \n",
              "TFORM51 = 'E       '                                                            \n",
              "TTYPE52 = 'flux_nb505'                                                          \n",
              "TFORM52 = 'E       '                                                            \n",
              "TTYPE53 = 'flux_nb515'                                                          \n",
              "TFORM53 = 'E       '                                                            \n",
              "TTYPE54 = 'flux_nb525'                                                          \n",
              "TFORM54 = 'E       '                                                            \n",
              "TTYPE55 = 'flux_nb535'                                                          \n",
              "TFORM55 = 'E       '                                                            \n",
              "TTYPE56 = 'flux_nb545'                                                          \n",
              "TFORM56 = 'E       '                                                            \n",
              "TTYPE57 = 'flux_nb555'                                                          \n",
              "TFORM57 = 'E       '                                                            \n",
              "TTYPE58 = 'flux_nb565'                                                          \n",
              "TFORM58 = 'E       '                                                            \n",
              "TTYPE59 = 'flux_nb575'                                                          \n",
              "TFORM59 = 'E       '                                                            \n",
              "TTYPE60 = 'flux_nb585'                                                          \n",
              "TFORM60 = 'E       '                                                            \n",
              "TTYPE61 = 'flux_nb595'                                                          \n",
              "TFORM61 = 'E       '                                                            \n",
              "TTYPE62 = 'flux_nb605'                                                          \n",
              "TFORM62 = 'E       '                                                            \n",
              "TTYPE63 = 'flux_nb615'                                                          \n",
              "TFORM63 = 'E       '                                                            \n",
              "TTYPE64 = 'flux_nb625'                                                          \n",
              "TFORM64 = 'E       '                                                            \n",
              "TTYPE65 = 'flux_nb635'                                                          \n",
              "TFORM65 = 'E       '                                                            \n",
              "TTYPE66 = 'flux_nb645'                                                          \n",
              "TFORM66 = 'E       '                                                            \n",
              "TTYPE67 = 'flux_nb655'                                                          \n",
              "TFORM67 = 'E       '                                                            \n",
              "TTYPE68 = 'flux_nb665'                                                          \n",
              "TFORM68 = 'E       '                                                            \n",
              "TTYPE69 = 'flux_nb675'                                                          \n",
              "TFORM69 = 'E       '                                                            \n",
              "TTYPE70 = 'flux_nb685'                                                          \n",
              "TFORM70 = 'E       '                                                            \n",
              "TTYPE71 = 'flux_nb695'                                                          \n",
              "TFORM71 = 'E       '                                                            \n",
              "TTYPE72 = 'flux_nb705'                                                          \n",
              "TFORM72 = 'E       '                                                            \n",
              "TTYPE73 = 'flux_nb715'                                                          \n",
              "TFORM73 = 'E       '                                                            \n",
              "TTYPE74 = 'flux_nb725'                                                          \n",
              "TFORM74 = 'E       '                                                            \n",
              "TTYPE75 = 'flux_nb735'                                                          \n",
              "TFORM75 = 'E       '                                                            \n",
              "TTYPE76 = 'flux_nb745'                                                          \n",
              "TFORM76 = 'E       '                                                            \n",
              "TTYPE77 = 'flux_nb755'                                                          \n",
              "TFORM77 = 'E       '                                                            \n",
              "TTYPE78 = 'flux_nb765'                                                          \n",
              "TFORM78 = 'E       '                                                            \n",
              "TTYPE79 = 'flux_nb775'                                                          \n",
              "TFORM79 = 'E       '                                                            \n",
              "TTYPE80 = 'flux_nb785'                                                          \n",
              "TFORM80 = 'E       '                                                            \n",
              "TTYPE81 = 'flux_nb795'                                                          \n",
              "TFORM81 = 'E       '                                                            \n",
              "TTYPE82 = 'flux_nb805'                                                          \n",
              "TFORM82 = 'E       '                                                            \n",
              "TTYPE83 = 'flux_nb815'                                                          \n",
              "TFORM83 = 'E       '                                                            \n",
              "TTYPE84 = 'flux_nb825'                                                          \n",
              "TFORM84 = 'E       '                                                            \n",
              "TTYPE85 = 'flux_nb835'                                                          \n",
              "TFORM85 = 'E       '                                                            \n",
              "TTYPE86 = 'flux_nb845'                                                          \n",
              "TFORM86 = 'E       '                                                            \n",
              "TTYPE87 = 'flux_error_nb455'                                                    \n",
              "TFORM87 = 'E       '                                                            \n",
              "TTYPE88 = 'flux_error_nb465'                                                    \n",
              "TFORM88 = 'E       '                                                            \n",
              "TTYPE89 = 'flux_error_nb475'                                                    \n",
              "TFORM89 = 'E       '                                                            \n",
              "TTYPE90 = 'flux_error_nb485'                                                    \n",
              "TFORM90 = 'E       '                                                            \n",
              "TTYPE91 = 'flux_error_nb495'                                                    \n",
              "TFORM91 = 'E       '                                                            \n",
              "TTYPE92 = 'flux_error_nb505'                                                    \n",
              "TFORM92 = 'E       '                                                            \n",
              "TTYPE93 = 'flux_error_nb515'                                                    \n",
              "TFORM93 = 'E       '                                                            \n",
              "TTYPE94 = 'flux_error_nb525'                                                    \n",
              "TFORM94 = 'E       '                                                            \n",
              "TTYPE95 = 'flux_error_nb535'                                                    \n",
              "TFORM95 = 'E       '                                                            \n",
              "TTYPE96 = 'flux_error_nb545'                                                    \n",
              "TFORM96 = 'E       '                                                            \n",
              "TTYPE97 = 'flux_error_nb555'                                                    \n",
              "TFORM97 = 'E       '                                                            \n",
              "TTYPE98 = 'flux_error_nb565'                                                    \n",
              "TFORM98 = 'E       '                                                            \n",
              "TTYPE99 = 'flux_error_nb575'                                                    \n",
              "TFORM99 = 'E       '                                                            \n",
              "TTYPE100= 'flux_error_nb585'                                                    \n",
              "TFORM100= 'E       '                                                            \n",
              "TTYPE101= 'flux_error_nb595'                                                    \n",
              "TFORM101= 'E       '                                                            \n",
              "TTYPE102= 'flux_error_nb605'                                                    \n",
              "TFORM102= 'E       '                                                            \n",
              "TTYPE103= 'flux_error_nb615'                                                    \n",
              "TFORM103= 'E       '                                                            \n",
              "TTYPE104= 'flux_error_nb625'                                                    \n",
              "TFORM104= 'E       '                                                            \n",
              "TTYPE105= 'flux_error_nb635'                                                    \n",
              "TFORM105= 'E       '                                                            \n",
              "TTYPE106= 'flux_error_nb645'                                                    \n",
              "TFORM106= 'E       '                                                            \n",
              "TTYPE107= 'flux_error_nb655'                                                    \n",
              "TFORM107= 'E       '                                                            \n",
              "TTYPE108= 'flux_error_nb665'                                                    \n",
              "TFORM108= 'E       '                                                            \n",
              "TTYPE109= 'flux_error_nb675'                                                    \n",
              "TFORM109= 'E       '                                                            \n",
              "TTYPE110= 'flux_error_nb685'                                                    \n",
              "TFORM110= 'E       '                                                            \n",
              "TTYPE111= 'flux_error_nb695'                                                    \n",
              "TFORM111= 'E       '                                                            \n",
              "TTYPE112= 'flux_error_nb705'                                                    \n",
              "TFORM112= 'E       '                                                            \n",
              "TTYPE113= 'flux_error_nb715'                                                    \n",
              "TFORM113= 'E       '                                                            \n",
              "TTYPE114= 'flux_error_nb725'                                                    \n",
              "TFORM114= 'E       '                                                            \n",
              "TTYPE115= 'flux_error_nb735'                                                    \n",
              "TFORM115= 'E       '                                                            \n",
              "TTYPE116= 'flux_error_nb745'                                                    \n",
              "TFORM116= 'E       '                                                            \n",
              "TTYPE117= 'flux_error_nb755'                                                    \n",
              "TFORM117= 'E       '                                                            \n",
              "TTYPE118= 'flux_error_nb765'                                                    \n",
              "TFORM118= 'E       '                                                            \n",
              "TTYPE119= 'flux_error_nb775'                                                    \n",
              "TFORM119= 'E       '                                                            \n",
              "TTYPE120= 'flux_error_nb785'                                                    \n",
              "TFORM120= 'E       '                                                            \n",
              "TTYPE121= 'flux_error_nb795'                                                    \n",
              "TFORM121= 'E       '                                                            \n",
              "TTYPE122= 'flux_error_nb805'                                                    \n",
              "TFORM122= 'E       '                                                            \n",
              "TTYPE123= 'flux_error_nb815'                                                    \n",
              "TFORM123= 'E       '                                                            \n",
              "TTYPE124= 'flux_error_nb825'                                                    \n",
              "TFORM124= 'E       '                                                            \n",
              "TTYPE125= 'flux_error_nb835'                                                    \n",
              "TFORM125= 'E       '                                                            \n",
              "TTYPE126= 'flux_error_nb845'                                                    \n",
              "TFORM126= 'E       '                                                            \n",
              "COMMENT This catalog has been produced on behalf of Ryley Hill (ryleyhill@phas.u\n",
              "COMMENT bc.ca) with ID #12096.                                                  \n",
              "COMMENT It took 0:05:32 (h:mm:ss) to complete and the SQL issued was:           \n",
              "COMMENT                                                                         \n",
              "COMMENT SELECT *                                                                \n",
              "COMMENT FROM paus_cosmos_edr_1_2                                                \n",
              "COMMENT                                                                         \n",
              "COMMENT Please, remember to follow the citation guide if you use any of this dat\n",
              "COMMENT a in your work.                                                         \n",
              "COMMENT                                                                         \n",
              "COMMENT Generated by CosmoHub (https://cosmohub.pic.es) on 2022-07-05 16:18:43 U\n",
              "COMMENT TC.                                                                     "
            ]
          },
          "metadata": {},
          "execution_count": 9
        }
      ]
    },
    {
      "cell_type": "markdown",
      "source": [
        "1. zb: posterior redshift mode (peak in p(z))\n",
        "2. odds: ODDS parameter is defined as\n",
        "  \\begin{align}\n",
        "                  ODDS ≡ \\int^{z_b + \\Delta z}_{z_b - \\Delta z} dz\\text{ }p(z)\n",
        "                  \\end{align}\n",
        "3. qz: Photo-z Quality parameter, which attempts to combine various quality parameter.\n",
        "\n",
        "4. "
      ],
      "metadata": {
        "id": "YiKoGHnPkjUQ"
      }
    },
    {
      "cell_type": "code",
      "source": [
        "nb_arr = np.array(nb[1].data)\n",
        "np.shape(nb_arr)"
      ],
      "metadata": {
        "id": "ll7Kk02YpSHj",
        "colab": {
          "base_uri": "https://localhost:8080/"
        },
        "outputId": "15f5b2a1-50da-4278-d700-80b0212fd507"
      },
      "execution_count": null,
      "outputs": [
        {
          "output_type": "execute_result",
          "data": {
            "text/plain": [
              "(6492,)"
            ]
          },
          "metadata": {},
          "execution_count": 10
        }
      ]
    },
    {
      "cell_type": "code",
      "source": [
        "np.ndim(nb_arr)"
      ],
      "metadata": {
        "id": "PA2mZhQWgf1Q",
        "colab": {
          "base_uri": "https://localhost:8080/"
        },
        "outputId": "56712918-715f-410f-e3ca-46289754e191"
      },
      "execution_count": null,
      "outputs": [
        {
          "output_type": "execute_result",
          "data": {
            "text/plain": [
              "1"
            ]
          },
          "metadata": {},
          "execution_count": 11
        }
      ]
    },
    {
      "cell_type": "code",
      "source": [
        "nb_arr1 = nb_arr.byteswap().newbyteorder()"
      ],
      "metadata": {
        "id": "kHbbxq70-s_8"
      },
      "execution_count": null,
      "outputs": []
    },
    {
      "cell_type": "code",
      "source": [
        "np.ndim(nb_arr)"
      ],
      "metadata": {
        "id": "_m2LD6o0x1Ts",
        "colab": {
          "base_uri": "https://localhost:8080/"
        },
        "outputId": "6407e9a6-80b3-46cc-b1e4-267b6e686917"
      },
      "execution_count": null,
      "outputs": [
        {
          "output_type": "execute_result",
          "data": {
            "text/plain": [
              "1"
            ]
          },
          "metadata": {},
          "execution_count": 13
        }
      ]
    },
    {
      "cell_type": "code",
      "source": [
        "df_nb = pd.DataFrame(nb_arr1)"
      ],
      "metadata": {
        "id": "EYl6Pck_C0IS"
      },
      "execution_count": null,
      "outputs": []
    },
    {
      "cell_type": "code",
      "source": [
        "df_nb[[\"zspec\",\"zb\",\"zb_mean\",\"zp_gal\"]]"
      ],
      "metadata": {
        "id": "SeMU93zbEH5M",
        "colab": {
          "base_uri": "https://localhost:8080/",
          "height": 424
        },
        "outputId": "f21897b9-2693-4090-8511-32d0b5eac58c"
      },
      "execution_count": null,
      "outputs": [
        {
          "output_type": "execute_result",
          "data": {
            "text/plain": [
              "       zspec     zb  zb_mean  zp_gal\n",
              "0     0.5499  0.544   0.5450   0.552\n",
              "1     0.7751  0.798   0.7958   0.777\n",
              "2     0.2464  0.243   0.2432   0.249\n",
              "3     0.7016  0.704   0.7028   0.674\n",
              "4     0.9235  0.936   0.9314   0.927\n",
              "...      ...    ...      ...     ...\n",
              "6487  0.7014  0.702   0.7000   0.695\n",
              "6488  0.3218  0.321   0.3235   0.318\n",
              "6489  0.5286  0.527   0.5272   0.549\n",
              "6490  0.6120  0.585   0.5829   0.593\n",
              "6491  0.6613  0.662   0.6609   0.666\n",
              "\n",
              "[6492 rows x 4 columns]"
            ],
            "text/html": [
              "\n",
              "  <div id=\"df-f5ff2d79-d790-4830-809d-2ce02fe6c045\">\n",
              "    <div class=\"colab-df-container\">\n",
              "      <div>\n",
              "<style scoped>\n",
              "    .dataframe tbody tr th:only-of-type {\n",
              "        vertical-align: middle;\n",
              "    }\n",
              "\n",
              "    .dataframe tbody tr th {\n",
              "        vertical-align: top;\n",
              "    }\n",
              "\n",
              "    .dataframe thead th {\n",
              "        text-align: right;\n",
              "    }\n",
              "</style>\n",
              "<table border=\"1\" class=\"dataframe\">\n",
              "  <thead>\n",
              "    <tr style=\"text-align: right;\">\n",
              "      <th></th>\n",
              "      <th>zspec</th>\n",
              "      <th>zb</th>\n",
              "      <th>zb_mean</th>\n",
              "      <th>zp_gal</th>\n",
              "    </tr>\n",
              "  </thead>\n",
              "  <tbody>\n",
              "    <tr>\n",
              "      <th>0</th>\n",
              "      <td>0.5499</td>\n",
              "      <td>0.544</td>\n",
              "      <td>0.5450</td>\n",
              "      <td>0.552</td>\n",
              "    </tr>\n",
              "    <tr>\n",
              "      <th>1</th>\n",
              "      <td>0.7751</td>\n",
              "      <td>0.798</td>\n",
              "      <td>0.7958</td>\n",
              "      <td>0.777</td>\n",
              "    </tr>\n",
              "    <tr>\n",
              "      <th>2</th>\n",
              "      <td>0.2464</td>\n",
              "      <td>0.243</td>\n",
              "      <td>0.2432</td>\n",
              "      <td>0.249</td>\n",
              "    </tr>\n",
              "    <tr>\n",
              "      <th>3</th>\n",
              "      <td>0.7016</td>\n",
              "      <td>0.704</td>\n",
              "      <td>0.7028</td>\n",
              "      <td>0.674</td>\n",
              "    </tr>\n",
              "    <tr>\n",
              "      <th>4</th>\n",
              "      <td>0.9235</td>\n",
              "      <td>0.936</td>\n",
              "      <td>0.9314</td>\n",
              "      <td>0.927</td>\n",
              "    </tr>\n",
              "    <tr>\n",
              "      <th>...</th>\n",
              "      <td>...</td>\n",
              "      <td>...</td>\n",
              "      <td>...</td>\n",
              "      <td>...</td>\n",
              "    </tr>\n",
              "    <tr>\n",
              "      <th>6487</th>\n",
              "      <td>0.7014</td>\n",
              "      <td>0.702</td>\n",
              "      <td>0.7000</td>\n",
              "      <td>0.695</td>\n",
              "    </tr>\n",
              "    <tr>\n",
              "      <th>6488</th>\n",
              "      <td>0.3218</td>\n",
              "      <td>0.321</td>\n",
              "      <td>0.3235</td>\n",
              "      <td>0.318</td>\n",
              "    </tr>\n",
              "    <tr>\n",
              "      <th>6489</th>\n",
              "      <td>0.5286</td>\n",
              "      <td>0.527</td>\n",
              "      <td>0.5272</td>\n",
              "      <td>0.549</td>\n",
              "    </tr>\n",
              "    <tr>\n",
              "      <th>6490</th>\n",
              "      <td>0.6120</td>\n",
              "      <td>0.585</td>\n",
              "      <td>0.5829</td>\n",
              "      <td>0.593</td>\n",
              "    </tr>\n",
              "    <tr>\n",
              "      <th>6491</th>\n",
              "      <td>0.6613</td>\n",
              "      <td>0.662</td>\n",
              "      <td>0.6609</td>\n",
              "      <td>0.666</td>\n",
              "    </tr>\n",
              "  </tbody>\n",
              "</table>\n",
              "<p>6492 rows × 4 columns</p>\n",
              "</div>\n",
              "      <button class=\"colab-df-convert\" onclick=\"convertToInteractive('df-f5ff2d79-d790-4830-809d-2ce02fe6c045')\"\n",
              "              title=\"Convert this dataframe to an interactive table.\"\n",
              "              style=\"display:none;\">\n",
              "        \n",
              "  <svg xmlns=\"http://www.w3.org/2000/svg\" height=\"24px\"viewBox=\"0 0 24 24\"\n",
              "       width=\"24px\">\n",
              "    <path d=\"M0 0h24v24H0V0z\" fill=\"none\"/>\n",
              "    <path d=\"M18.56 5.44l.94 2.06.94-2.06 2.06-.94-2.06-.94-.94-2.06-.94 2.06-2.06.94zm-11 1L8.5 8.5l.94-2.06 2.06-.94-2.06-.94L8.5 2.5l-.94 2.06-2.06.94zm10 10l.94 2.06.94-2.06 2.06-.94-2.06-.94-.94-2.06-.94 2.06-2.06.94z\"/><path d=\"M17.41 7.96l-1.37-1.37c-.4-.4-.92-.59-1.43-.59-.52 0-1.04.2-1.43.59L10.3 9.45l-7.72 7.72c-.78.78-.78 2.05 0 2.83L4 21.41c.39.39.9.59 1.41.59.51 0 1.02-.2 1.41-.59l7.78-7.78 2.81-2.81c.8-.78.8-2.07 0-2.86zM5.41 20L4 18.59l7.72-7.72 1.47 1.35L5.41 20z\"/>\n",
              "  </svg>\n",
              "      </button>\n",
              "      \n",
              "  <style>\n",
              "    .colab-df-container {\n",
              "      display:flex;\n",
              "      flex-wrap:wrap;\n",
              "      gap: 12px;\n",
              "    }\n",
              "\n",
              "    .colab-df-convert {\n",
              "      background-color: #E8F0FE;\n",
              "      border: none;\n",
              "      border-radius: 50%;\n",
              "      cursor: pointer;\n",
              "      display: none;\n",
              "      fill: #1967D2;\n",
              "      height: 32px;\n",
              "      padding: 0 0 0 0;\n",
              "      width: 32px;\n",
              "    }\n",
              "\n",
              "    .colab-df-convert:hover {\n",
              "      background-color: #E2EBFA;\n",
              "      box-shadow: 0px 1px 2px rgba(60, 64, 67, 0.3), 0px 1px 3px 1px rgba(60, 64, 67, 0.15);\n",
              "      fill: #174EA6;\n",
              "    }\n",
              "\n",
              "    [theme=dark] .colab-df-convert {\n",
              "      background-color: #3B4455;\n",
              "      fill: #D2E3FC;\n",
              "    }\n",
              "\n",
              "    [theme=dark] .colab-df-convert:hover {\n",
              "      background-color: #434B5C;\n",
              "      box-shadow: 0px 1px 3px 1px rgba(0, 0, 0, 0.15);\n",
              "      filter: drop-shadow(0px 1px 2px rgba(0, 0, 0, 0.3));\n",
              "      fill: #FFFFFF;\n",
              "    }\n",
              "  </style>\n",
              "\n",
              "      <script>\n",
              "        const buttonEl =\n",
              "          document.querySelector('#df-f5ff2d79-d790-4830-809d-2ce02fe6c045 button.colab-df-convert');\n",
              "        buttonEl.style.display =\n",
              "          google.colab.kernel.accessAllowed ? 'block' : 'none';\n",
              "\n",
              "        async function convertToInteractive(key) {\n",
              "          const element = document.querySelector('#df-f5ff2d79-d790-4830-809d-2ce02fe6c045');\n",
              "          const dataTable =\n",
              "            await google.colab.kernel.invokeFunction('convertToInteractive',\n",
              "                                                     [key], {});\n",
              "          if (!dataTable) return;\n",
              "\n",
              "          const docLinkHtml = 'Like what you see? Visit the ' +\n",
              "            '<a target=\"_blank\" href=https://colab.research.google.com/notebooks/data_table.ipynb>data table notebook</a>'\n",
              "            + ' to learn more about interactive tables.';\n",
              "          element.innerHTML = '';\n",
              "          dataTable['output_type'] = 'display_data';\n",
              "          await google.colab.output.renderOutput(dataTable, element);\n",
              "          const docLink = document.createElement('div');\n",
              "          docLink.innerHTML = docLinkHtml;\n",
              "          element.appendChild(docLink);\n",
              "        }\n",
              "      </script>\n",
              "    </div>\n",
              "  </div>\n",
              "  "
            ]
          },
          "metadata": {},
          "execution_count": 15
        }
      ]
    },
    {
      "cell_type": "code",
      "source": [
        "final_np_arr = pd.DataFrame(df_nb).to_numpy()"
      ],
      "metadata": {
        "id": "2euhr2CjNlxP"
      },
      "execution_count": null,
      "outputs": []
    },
    {
      "cell_type": "code",
      "source": [
        "print(df_nb.columns.tolist())"
      ],
      "metadata": {
        "id": "SP3Ea6dTEUF2",
        "colab": {
          "base_uri": "https://localhost:8080/"
        },
        "outputId": "52fb940d-f979-4826-a4bf-18b1ebd63009"
      },
      "execution_count": null,
      "outputs": [
        {
          "output_type": "stream",
          "name": "stdout",
          "text": [
            "['ref_id', 'zb', 'odds', 'pz_width', 'zb_mean', 'chi2', 'ebv', 'qz', 'best_run', 'ra', 'dec', 'zp_gal', 'zl68_gal', 'zu68_gal', 'zl99_gal', 'zu99_gal', 'zp_sec', 'dchi', 'imag', 'ei', 'i_auto', 'nbfilt', 'mod_gal', 'type', 'umag', 'bmag', 'vmag', 'gmag', 'rmag', 'zmag', 'icmag', 'jmag', 'kmag', 'mv', 'ebv_gal', 'ebv_int', 'acs_a_image', 'acs_b_image', 'acs_theta_image', 'acs_mag_auto', 'acs_magerr_auto', 'zspec', 'conf', 'f814w', 'r50', 'sersic_n_gim2d', 'flux_nb455', 'flux_nb465', 'flux_nb475', 'flux_nb485', 'flux_nb495', 'flux_nb505', 'flux_nb515', 'flux_nb525', 'flux_nb535', 'flux_nb545', 'flux_nb555', 'flux_nb565', 'flux_nb575', 'flux_nb585', 'flux_nb595', 'flux_nb605', 'flux_nb615', 'flux_nb625', 'flux_nb635', 'flux_nb645', 'flux_nb655', 'flux_nb665', 'flux_nb675', 'flux_nb685', 'flux_nb695', 'flux_nb705', 'flux_nb715', 'flux_nb725', 'flux_nb735', 'flux_nb745', 'flux_nb755', 'flux_nb765', 'flux_nb775', 'flux_nb785', 'flux_nb795', 'flux_nb805', 'flux_nb815', 'flux_nb825', 'flux_nb835', 'flux_nb845', 'flux_error_nb455', 'flux_error_nb465', 'flux_error_nb475', 'flux_error_nb485', 'flux_error_nb495', 'flux_error_nb505', 'flux_error_nb515', 'flux_error_nb525', 'flux_error_nb535', 'flux_error_nb545', 'flux_error_nb555', 'flux_error_nb565', 'flux_error_nb575', 'flux_error_nb585', 'flux_error_nb595', 'flux_error_nb605', 'flux_error_nb615', 'flux_error_nb625', 'flux_error_nb635', 'flux_error_nb645', 'flux_error_nb655', 'flux_error_nb665', 'flux_error_nb675', 'flux_error_nb685', 'flux_error_nb695', 'flux_error_nb705', 'flux_error_nb715', 'flux_error_nb725', 'flux_error_nb735', 'flux_error_nb745', 'flux_error_nb755', 'flux_error_nb765', 'flux_error_nb775', 'flux_error_nb785', 'flux_error_nb795', 'flux_error_nb805', 'flux_error_nb815', 'flux_error_nb825', 'flux_error_nb835', 'flux_error_nb845']\n"
          ]
        }
      ]
    },
    {
      "cell_type": "code",
      "source": [
        "df_nb.shape"
      ],
      "metadata": {
        "id": "EZqnWR-LGtmq",
        "colab": {
          "base_uri": "https://localhost:8080/"
        },
        "outputId": "9a4f0798-ac7c-460c-e807-6312557a8015"
      },
      "execution_count": null,
      "outputs": [
        {
          "output_type": "execute_result",
          "data": {
            "text/plain": [
              "(6492, 126)"
            ]
          },
          "metadata": {},
          "execution_count": 18
        }
      ]
    },
    {
      "cell_type": "code",
      "source": [
        "df_nb[df_nb[\"zspec\"] == 0]"
      ],
      "metadata": {
        "id": "Ws11pwsj2XgH",
        "colab": {
          "base_uri": "https://localhost:8080/",
          "height": 143
        },
        "outputId": "470b3147-9904-451a-8b99-5b0ed8adcee4"
      },
      "execution_count": null,
      "outputs": [
        {
          "output_type": "execute_result",
          "data": {
            "text/plain": [
              "Empty DataFrame\n",
              "Columns: [ref_id, zb, odds, pz_width, zb_mean, chi2, ebv, qz, best_run, ra, dec, zp_gal, zl68_gal, zu68_gal, zl99_gal, zu99_gal, zp_sec, dchi, imag, ei, i_auto, nbfilt, mod_gal, type, umag, bmag, vmag, gmag, rmag, zmag, icmag, jmag, kmag, mv, ebv_gal, ebv_int, acs_a_image, acs_b_image, acs_theta_image, acs_mag_auto, acs_magerr_auto, zspec, conf, f814w, r50, sersic_n_gim2d, flux_nb455, flux_nb465, flux_nb475, flux_nb485, flux_nb495, flux_nb505, flux_nb515, flux_nb525, flux_nb535, flux_nb545, flux_nb555, flux_nb565, flux_nb575, flux_nb585, flux_nb595, flux_nb605, flux_nb615, flux_nb625, flux_nb635, flux_nb645, flux_nb655, flux_nb665, flux_nb675, flux_nb685, flux_nb695, flux_nb705, flux_nb715, flux_nb725, flux_nb735, flux_nb745, flux_nb755, flux_nb765, flux_nb775, flux_nb785, flux_nb795, flux_nb805, flux_nb815, flux_nb825, flux_nb835, flux_nb845, flux_error_nb455, flux_error_nb465, flux_error_nb475, flux_error_nb485, flux_error_nb495, flux_error_nb505, flux_error_nb515, flux_error_nb525, flux_error_nb535, flux_error_nb545, flux_error_nb555, flux_error_nb565, flux_error_nb575, flux_error_nb585, ...]\n",
              "Index: []\n",
              "\n",
              "[0 rows x 126 columns]"
            ],
            "text/html": [
              "\n",
              "  <div id=\"df-988ccb68-fbc8-4b73-bd91-7c705bf9b2be\">\n",
              "    <div class=\"colab-df-container\">\n",
              "      <div>\n",
              "<style scoped>\n",
              "    .dataframe tbody tr th:only-of-type {\n",
              "        vertical-align: middle;\n",
              "    }\n",
              "\n",
              "    .dataframe tbody tr th {\n",
              "        vertical-align: top;\n",
              "    }\n",
              "\n",
              "    .dataframe thead th {\n",
              "        text-align: right;\n",
              "    }\n",
              "</style>\n",
              "<table border=\"1\" class=\"dataframe\">\n",
              "  <thead>\n",
              "    <tr style=\"text-align: right;\">\n",
              "      <th></th>\n",
              "      <th>ref_id</th>\n",
              "      <th>zb</th>\n",
              "      <th>odds</th>\n",
              "      <th>pz_width</th>\n",
              "      <th>zb_mean</th>\n",
              "      <th>chi2</th>\n",
              "      <th>ebv</th>\n",
              "      <th>qz</th>\n",
              "      <th>best_run</th>\n",
              "      <th>ra</th>\n",
              "      <th>...</th>\n",
              "      <th>flux_error_nb755</th>\n",
              "      <th>flux_error_nb765</th>\n",
              "      <th>flux_error_nb775</th>\n",
              "      <th>flux_error_nb785</th>\n",
              "      <th>flux_error_nb795</th>\n",
              "      <th>flux_error_nb805</th>\n",
              "      <th>flux_error_nb815</th>\n",
              "      <th>flux_error_nb825</th>\n",
              "      <th>flux_error_nb835</th>\n",
              "      <th>flux_error_nb845</th>\n",
              "    </tr>\n",
              "  </thead>\n",
              "  <tbody>\n",
              "  </tbody>\n",
              "</table>\n",
              "<p>0 rows × 126 columns</p>\n",
              "</div>\n",
              "      <button class=\"colab-df-convert\" onclick=\"convertToInteractive('df-988ccb68-fbc8-4b73-bd91-7c705bf9b2be')\"\n",
              "              title=\"Convert this dataframe to an interactive table.\"\n",
              "              style=\"display:none;\">\n",
              "        \n",
              "  <svg xmlns=\"http://www.w3.org/2000/svg\" height=\"24px\"viewBox=\"0 0 24 24\"\n",
              "       width=\"24px\">\n",
              "    <path d=\"M0 0h24v24H0V0z\" fill=\"none\"/>\n",
              "    <path d=\"M18.56 5.44l.94 2.06.94-2.06 2.06-.94-2.06-.94-.94-2.06-.94 2.06-2.06.94zm-11 1L8.5 8.5l.94-2.06 2.06-.94-2.06-.94L8.5 2.5l-.94 2.06-2.06.94zm10 10l.94 2.06.94-2.06 2.06-.94-2.06-.94-.94-2.06-.94 2.06-2.06.94z\"/><path d=\"M17.41 7.96l-1.37-1.37c-.4-.4-.92-.59-1.43-.59-.52 0-1.04.2-1.43.59L10.3 9.45l-7.72 7.72c-.78.78-.78 2.05 0 2.83L4 21.41c.39.39.9.59 1.41.59.51 0 1.02-.2 1.41-.59l7.78-7.78 2.81-2.81c.8-.78.8-2.07 0-2.86zM5.41 20L4 18.59l7.72-7.72 1.47 1.35L5.41 20z\"/>\n",
              "  </svg>\n",
              "      </button>\n",
              "      \n",
              "  <style>\n",
              "    .colab-df-container {\n",
              "      display:flex;\n",
              "      flex-wrap:wrap;\n",
              "      gap: 12px;\n",
              "    }\n",
              "\n",
              "    .colab-df-convert {\n",
              "      background-color: #E8F0FE;\n",
              "      border: none;\n",
              "      border-radius: 50%;\n",
              "      cursor: pointer;\n",
              "      display: none;\n",
              "      fill: #1967D2;\n",
              "      height: 32px;\n",
              "      padding: 0 0 0 0;\n",
              "      width: 32px;\n",
              "    }\n",
              "\n",
              "    .colab-df-convert:hover {\n",
              "      background-color: #E2EBFA;\n",
              "      box-shadow: 0px 1px 2px rgba(60, 64, 67, 0.3), 0px 1px 3px 1px rgba(60, 64, 67, 0.15);\n",
              "      fill: #174EA6;\n",
              "    }\n",
              "\n",
              "    [theme=dark] .colab-df-convert {\n",
              "      background-color: #3B4455;\n",
              "      fill: #D2E3FC;\n",
              "    }\n",
              "\n",
              "    [theme=dark] .colab-df-convert:hover {\n",
              "      background-color: #434B5C;\n",
              "      box-shadow: 0px 1px 3px 1px rgba(0, 0, 0, 0.15);\n",
              "      filter: drop-shadow(0px 1px 2px rgba(0, 0, 0, 0.3));\n",
              "      fill: #FFFFFF;\n",
              "    }\n",
              "  </style>\n",
              "\n",
              "      <script>\n",
              "        const buttonEl =\n",
              "          document.querySelector('#df-988ccb68-fbc8-4b73-bd91-7c705bf9b2be button.colab-df-convert');\n",
              "        buttonEl.style.display =\n",
              "          google.colab.kernel.accessAllowed ? 'block' : 'none';\n",
              "\n",
              "        async function convertToInteractive(key) {\n",
              "          const element = document.querySelector('#df-988ccb68-fbc8-4b73-bd91-7c705bf9b2be');\n",
              "          const dataTable =\n",
              "            await google.colab.kernel.invokeFunction('convertToInteractive',\n",
              "                                                     [key], {});\n",
              "          if (!dataTable) return;\n",
              "\n",
              "          const docLinkHtml = 'Like what you see? Visit the ' +\n",
              "            '<a target=\"_blank\" href=https://colab.research.google.com/notebooks/data_table.ipynb>data table notebook</a>'\n",
              "            + ' to learn more about interactive tables.';\n",
              "          element.innerHTML = '';\n",
              "          dataTable['output_type'] = 'display_data';\n",
              "          await google.colab.output.renderOutput(dataTable, element);\n",
              "          const docLink = document.createElement('div');\n",
              "          docLink.innerHTML = docLinkHtml;\n",
              "          element.appendChild(docLink);\n",
              "        }\n",
              "      </script>\n",
              "    </div>\n",
              "  </div>\n",
              "  "
            ]
          },
          "metadata": {},
          "execution_count": 19
        }
      ]
    },
    {
      "cell_type": "markdown",
      "source": [
        "## 2. Photo-z Extra Data"
      ],
      "metadata": {
        "id": "YVehIotpV0SM"
      }
    },
    {
      "cell_type": "markdown",
      "source": [
        "## 3. Combining the data"
      ],
      "metadata": {
        "id": "Z3ySXZ5buJNe"
      }
    },
    {
      "cell_type": "markdown",
      "source": [
        "I am just starting with the first database right now and trying to look at the results. If successful, then only I will add the rest of the data to it."
      ],
      "metadata": {
        "id": "O2u3czpVuS25"
      }
    },
    {
      "cell_type": "code",
      "source": [
        "df_nb.columns.get_loc(\"zspec\")"
      ],
      "metadata": {
        "id": "_Nz_sBIfuOSO",
        "colab": {
          "base_uri": "https://localhost:8080/"
        },
        "outputId": "76668c56-73c9-44d9-8d99-74ef80d7b66c"
      },
      "execution_count": null,
      "outputs": [
        {
          "output_type": "execute_result",
          "data": {
            "text/plain": [
              "41"
            ]
          },
          "metadata": {},
          "execution_count": 20
        }
      ]
    },
    {
      "cell_type": "code",
      "source": [
        "np.shape(nb_arr1)"
      ],
      "metadata": {
        "id": "lm9Fhxz1xsDu",
        "colab": {
          "base_uri": "https://localhost:8080/"
        },
        "outputId": "35cc1d2a-9dd5-41d9-89b9-95b9c701b3f3"
      },
      "execution_count": null,
      "outputs": [
        {
          "output_type": "execute_result",
          "data": {
            "text/plain": [
              "(6492,)"
            ]
          },
          "metadata": {},
          "execution_count": 21
        }
      ]
    },
    {
      "cell_type": "code",
      "source": [
        "bb_arr = final_np_arr[:,df_nb.columns.get_loc(\"umag\"):df_nb.columns.get_loc(\"kmag\")+1]"
      ],
      "metadata": {
        "id": "35j7K17tvUro"
      },
      "execution_count": null,
      "outputs": []
    },
    {
      "cell_type": "code",
      "source": [
        "bb_arr = np.power(10, (26 - bb_arr)/2.5)"
      ],
      "metadata": {
        "id": "6VzO41EraJGo"
      },
      "execution_count": null,
      "outputs": []
    },
    {
      "cell_type": "code",
      "source": [
        "np.shape(bb_arr)"
      ],
      "metadata": {
        "id": "Wx4jtb-8yhn2",
        "colab": {
          "base_uri": "https://localhost:8080/"
        },
        "outputId": "d6609d83-6b9f-467d-a7a8-66e06e42a3d2"
      },
      "execution_count": null,
      "outputs": [
        {
          "output_type": "execute_result",
          "data": {
            "text/plain": [
              "(6492, 9)"
            ]
          },
          "metadata": {},
          "execution_count": 24
        }
      ]
    },
    {
      "cell_type": "code",
      "source": [
        "nb_arr = final_np_arr[:,df_nb.columns.get_loc(\"flux_nb455\"):df_nb.columns.get_loc(\"flux_nb845\")+1]\n",
        "np.shape(nb_arr)"
      ],
      "metadata": {
        "id": "QgylTlGCy3j5",
        "colab": {
          "base_uri": "https://localhost:8080/"
        },
        "outputId": "849019a3-f77f-4821-c3c2-7788eae9e32e"
      },
      "execution_count": null,
      "outputs": [
        {
          "output_type": "execute_result",
          "data": {
            "text/plain": [
              "(6492, 40)"
            ]
          },
          "metadata": {},
          "execution_count": 25
        }
      ]
    },
    {
      "cell_type": "code",
      "source": [
        "nb_arr = np.power(10, (26 - nb_arr)/2.5)"
      ],
      "metadata": {
        "id": "7JBKInwiaccC"
      },
      "execution_count": null,
      "outputs": []
    },
    {
      "cell_type": "code",
      "source": [
        "zspec_arr = final_np_arr[:,df_nb.columns.get_loc(\"zspec\")]"
      ],
      "metadata": {
        "id": "7nklQUBQzeAE"
      },
      "execution_count": null,
      "outputs": []
    },
    {
      "cell_type": "code",
      "source": [
        "np.ndim(zspec_arr)"
      ],
      "metadata": {
        "colab": {
          "base_uri": "https://localhost:8080/"
        },
        "id": "vD0MsKfrf678",
        "outputId": "d0745805-32fc-4574-c66b-68be0bb76cac"
      },
      "execution_count": null,
      "outputs": [
        {
          "output_type": "execute_result",
          "data": {
            "text/plain": [
              "1"
            ]
          },
          "metadata": {},
          "execution_count": 28
        }
      ]
    },
    {
      "cell_type": "code",
      "source": [
        "zspec_arr = np.reshape(zspec_arr,[6492,1])"
      ],
      "metadata": {
        "id": "wloYwCUEiuzD"
      },
      "execution_count": null,
      "outputs": []
    },
    {
      "cell_type": "markdown",
      "source": [
        "## Normalizing the data"
      ],
      "metadata": {
        "id": "P0RAnxGH6NFE"
      }
    },
    {
      "cell_type": "code",
      "source": [
        "for i in range(len(bb_arr)):\n",
        "  result_bb = np.linalg.norm(bb_arr[i])\n",
        "  bb_arr[i] = bb_arr[i]/result_bb"
      ],
      "metadata": {
        "id": "_YWh-JmQ6Qvo"
      },
      "execution_count": null,
      "outputs": []
    },
    {
      "cell_type": "code",
      "source": [
        "bb_arr[0]"
      ],
      "metadata": {
        "colab": {
          "base_uri": "https://localhost:8080/"
        },
        "id": "7VHekGRo7F_H",
        "outputId": "c23c2bb7-e2b5-4652-a227-2537d2594de6"
      },
      "execution_count": null,
      "outputs": [
        {
          "output_type": "execute_result",
          "data": {
            "text/plain": [
              "array([0.09320129, 0.14106595, 0.18425607, 0.11841917, 0.24514462,\n",
              "       0.38852804, 0.33529082, 0.43794747, 0.63888393])"
            ]
          },
          "metadata": {},
          "execution_count": 31
        }
      ]
    },
    {
      "cell_type": "markdown",
      "source": [
        "# Defining the Network Architecture"
      ],
      "metadata": {
        "id": "IUL0jacsjSx_"
      }
    },
    {
      "cell_type": "code",
      "source": [
        "import torch\n",
        "import torch.nn as nn\n",
        "import torch.nn.functional as F"
      ],
      "metadata": {
        "id": "oITxmftXjiyb"
      },
      "execution_count": null,
      "outputs": []
    },
    {
      "cell_type": "code",
      "source": [
        "class Net(nn.Module):\n",
        "  def __init__(self):\n",
        "    super(Net,self).__init__()\n",
        "    self.l1 = nn.Linear(9,9)\n",
        "    self.d1 = nn.Dropout(p = 0.02)\n",
        "    self.l2 = nn.Linear(9, 300)\n",
        "    self.d2 = nn.Dropout(p = 0.02)\n",
        "    self.l3 = nn.Linear(300, 500)\n",
        "    self.d3 = nn.Dropout(p = 0.02)\n",
        "    self.l4 = nn.Linear(500,1000)\n",
        "    self.d4 = nn.Dropout(p = 0.02)\n",
        "    self.l5 = nn.Linear(1000,500)\n",
        "\n",
        "    self.d6 = nn.Dropout(p = 0.02)\n",
        "    self.l6 = nn.Linear(500,300)\n",
        "    self.pz = nn.Linear(300,1)\n",
        "\n",
        "  def forward(self, x):\n",
        "    m = nn.GELU()\n",
        "    x = m(self.l1(x))\n",
        "    x = self.d1(x)\n",
        "    x = m(self.l2(x))\n",
        "    x = self.d2(x)\n",
        "    x = m(self.l3(x))\n",
        "    x = self.d3(x)\n",
        "    x = m(self.l4(x))\n",
        "    x = self.d4(x)\n",
        "    x = m(self.l5(x))\n",
        "\n",
        "    photoz = self.d6(x)\n",
        "    photoz = m(self.l6(photoz))\n",
        "    photoz = m(self.pz(photoz))\n",
        "    \n",
        "    return photoz\n",
        "\n",
        "\n",
        "\n",
        "net = Net()\n",
        "print(net)"
      ],
      "metadata": {
        "id": "gnt7fBNLjzb4",
        "colab": {
          "base_uri": "https://localhost:8080/"
        },
        "outputId": "1315df8d-0d26-4a34-b402-b9d3d7dee7a5"
      },
      "execution_count": null,
      "outputs": [
        {
          "output_type": "stream",
          "name": "stdout",
          "text": [
            "Net(\n",
            "  (l1): Linear(in_features=9, out_features=9, bias=True)\n",
            "  (d1): Dropout(p=0.02, inplace=False)\n",
            "  (l2): Linear(in_features=9, out_features=300, bias=True)\n",
            "  (d2): Dropout(p=0.02, inplace=False)\n",
            "  (l3): Linear(in_features=300, out_features=500, bias=True)\n",
            "  (d3): Dropout(p=0.02, inplace=False)\n",
            "  (l4): Linear(in_features=500, out_features=1000, bias=True)\n",
            "  (d4): Dropout(p=0.02, inplace=False)\n",
            "  (l5): Linear(in_features=1000, out_features=500, bias=True)\n",
            "  (d6): Dropout(p=0.02, inplace=False)\n",
            "  (l6): Linear(in_features=500, out_features=300, bias=True)\n",
            "  (pz): Linear(in_features=300, out_features=1, bias=True)\n",
            ")\n"
          ]
        }
      ]
    },
    {
      "cell_type": "code",
      "source": [
        "net.parameters()"
      ],
      "metadata": {
        "id": "uWIVLFnvBK1z",
        "colab": {
          "base_uri": "https://localhost:8080/"
        },
        "outputId": "d99fe6b8-13aa-438d-ffca-4f1da5d90cde"
      },
      "execution_count": null,
      "outputs": [
        {
          "output_type": "execute_result",
          "data": {
            "text/plain": [
              "<generator object Module.parameters at 0x7f6b406704d0>"
            ]
          },
          "metadata": {},
          "execution_count": 34
        }
      ]
    },
    {
      "cell_type": "markdown",
      "source": [
        "# Loss Function & Optimizer"
      ],
      "metadata": {
        "id": "yMV-E_eNsAdC"
      }
    },
    {
      "cell_type": "code",
      "source": [
        "import torch.optim as optim\n",
        "\n",
        "criterion_pz = nn.MSELoss()\n",
        "#criterion_nb = nn.L1Loss()\n",
        "\n",
        "optimizer = optim.Adam(net.parameters(), lr=0.001)\n",
        "scheduler = optim.lr_scheduler.StepLR(optimizer, step_size=25, gamma=0.1)"
      ],
      "metadata": {
        "id": "kh6Yu1-rp_tu"
      },
      "execution_count": null,
      "outputs": []
    },
    {
      "cell_type": "markdown",
      "source": [
        "## Final data verification:\n",
        "\n",
        "Let's make a final list of all the arrays and dtypes of the data we have, both for input and for output.\n",
        "\n",
        "1. zspec_arr: Numpys array of the spectroscopic redshifts, being used as groundtruths for comparing redshift losses. This has to be converted to a **classification data**, rather than the direct data we have. This has to form a bin.\n",
        "\n",
        "2. nb_arr: Numpy array of the final narrow band data. This just has to be converted to PyTorch tensors.\n",
        "\n",
        "3. bb_arr: Numpy array of the input broadband data. This too just has to be converted to tensor before training."
      ],
      "metadata": {
        "id": "Q43KYDkV7FwL"
      }
    },
    {
      "cell_type": "code",
      "source": [
        "import math\n",
        "math.ceil(1.4991/0.001) - 1"
      ],
      "metadata": {
        "id": "xbS3wl2G6m2Q",
        "colab": {
          "base_uri": "https://localhost:8080/"
        },
        "outputId": "824291f3-ab62-49b7-95e3-a662e36d2cec"
      },
      "execution_count": null,
      "outputs": [
        {
          "output_type": "execute_result",
          "data": {
            "text/plain": [
              "1499"
            ]
          },
          "metadata": {},
          "execution_count": 36
        }
      ]
    },
    {
      "cell_type": "code",
      "source": [
        "# Spectroscopic data\n",
        "# import math\n",
        "# bin_zspec = np.zeros([len(bb_arr),1500])\n",
        "# for i in list(range(0,len(bb_arr),1)):\n",
        "#   n = math.ceil(zspec_arr[i]/0.001) - 1\n",
        "#   bin_zspec[i,n] = 1\n"
      ],
      "metadata": {
        "id": "jww9iLM8-a5d"
      },
      "execution_count": null,
      "outputs": []
    },
    {
      "cell_type": "code",
      "source": [
        "tensor_zspec = torch.from_numpy(zspec_arr)\n",
        "tensor_zspec = tensor_zspec.to(torch.float32)"
      ],
      "metadata": {
        "id": "_Lld97o7-6su"
      },
      "execution_count": null,
      "outputs": []
    },
    {
      "cell_type": "code",
      "source": [
        "# Narrowband data\n",
        "\n",
        "tensor_nb = torch.from_numpy(nb_arr)\n",
        "tensor_nb = tensor_nb.to(torch.float32)"
      ],
      "metadata": {
        "id": "2DGnhhOz_Ndg"
      },
      "execution_count": null,
      "outputs": []
    },
    {
      "cell_type": "code",
      "source": [
        "# Broadband data\n",
        "tensor_bb = torch.from_numpy(bb_arr)\n",
        "tensor_bb = tensor_bb.to(torch.float32)\n",
        "#tensor_bb = math.pow(10,((26 - tensor_bb)/2.5))"
      ],
      "metadata": {
        "id": "N6UAYaKx_Ziz"
      },
      "execution_count": null,
      "outputs": []
    },
    {
      "cell_type": "code",
      "source": [
        "tensor_bb[0]"
      ],
      "metadata": {
        "id": "qhTZZJm3zrHe",
        "colab": {
          "base_uri": "https://localhost:8080/"
        },
        "outputId": "f33f1d64-583c-4ebf-9f02-38a4ea773205"
      },
      "execution_count": null,
      "outputs": [
        {
          "output_type": "execute_result",
          "data": {
            "text/plain": [
              "tensor([0.0932, 0.1411, 0.1843, 0.1184, 0.2451, 0.3885, 0.3353, 0.4379, 0.6389])"
            ]
          },
          "metadata": {},
          "execution_count": 41
        }
      ]
    },
    {
      "cell_type": "markdown",
      "source": [
        "Now splitting the data into testing and training data"
      ],
      "metadata": {
        "id": "F1KcoHUrmZFa"
      }
    },
    {
      "cell_type": "code",
      "source": [
        "from sklearn.model_selection import train_test_split"
      ],
      "metadata": {
        "id": "a6c1tjyd_oa8"
      },
      "execution_count": null,
      "outputs": []
    },
    {
      "cell_type": "code",
      "source": [
        "bb_train, bb_test, nb_train, nb_test, pz_train, pz_test = train_test_split(tensor_bb, tensor_nb, tensor_zspec, test_size = 0.2, shuffle=True)"
      ],
      "metadata": {
        "id": "6aNcF2go5Vof"
      },
      "execution_count": null,
      "outputs": []
    },
    {
      "cell_type": "markdown",
      "source": [
        "# Training the model"
      ],
      "metadata": {
        "id": "K8bSBzEynVEJ"
      }
    },
    {
      "cell_type": "code",
      "source": [
        "# batch_size = 10\n",
        "\n",
        "# x_input = np.ones([num_batches,1])\n",
        "# nb_input = np.ones([num_batches,1])\n",
        "# pz_input = np.ones([num_batches,1])\n",
        "\n",
        "# for i in list(range(0, num_batches,1)):\n",
        "#   if i != num_batches-1:\n",
        "#     x_input[0,i] = [bb_train[i*batch_size: (i+1)*batch_size][:]]\n",
        "#     nb_input[0,i] = [nb_train[i*batch_size: (i+1)*batch_size][:]]\n",
        "#     pz_input[0,i] = [pz_train[i*batch_size: (i+1)*batch_size][:]]\n",
        "  \n",
        "#   else:\n",
        "#     x_input[i] = bb_train[i*batch_size:-1]\n",
        "#     nb_input[i] = nb_train[i*batch_size: -1]\n",
        "#     pz_input[i] = pz_train[i*batch_size: -1]"
      ],
      "metadata": {
        "id": "fcLD2S4Ui1Q_"
      },
      "execution_count": null,
      "outputs": []
    },
    {
      "cell_type": "code",
      "source": [
        "batch_size = 10\n",
        "num_batches = int(len(bb_train)/batch_size)\n",
        "\n",
        "for epoch in range(100):  # loop over the dataset multiple times\n",
        "    #running_loss = 0.0\n",
        "    for i in list(range(0, num_batches, 1)):\n",
        "\n",
        "        # zero the parameter gradients\n",
        "        optimizer.zero_grad()\n",
        "    \n",
        "        # forward + backward + optimize\n",
        "        photoz = net(bb_train[i*batch_size: (i+1)*batch_size][:])\n",
        "        #nband, photoz = net(bb_train[i])\n",
        "        #loss1 = criterion_pz(photoz, pz_train[i])\n",
        "        #loss2 = criterion_nb(nband, nb_train[i])\n",
        "        loss1 = criterion_pz(photoz, pz_train[i*batch_size: (i+1)*batch_size][:])\n",
        "        #loss2 = criterion_nb(nband, nb_train[i*batch_size: (i+1)*batch_size][:])\n",
        "        #loss = loss1 + loss2\n",
        "        #optimizer.zero_grad()\n",
        "        loss1.backward()\n",
        "        optimizer.step()\n",
        "\n",
        "        # print statistics\n",
        "        # running_loss += loss1.item()\n",
        "        # if i % 200 == 199:    # print every 2000 mini-batches\n",
        "        #     print(f'[{epoch + 1}, {i + 1:5d}] loss: {running_loss / 200:.3f}')\n",
        "        #     running_loss = 0.0\n",
        "    print(f'[{epoch + 1}] loss: {loss1:.3f}')\n",
        "    scheduler.step()\n",
        "print('Finished Training')"
      ],
      "metadata": {
        "id": "AitsFhgUnRog",
        "colab": {
          "base_uri": "https://localhost:8080/"
        },
        "outputId": "eb18b08f-fe3a-421b-8dd0-9537841997e2"
      },
      "execution_count": null,
      "outputs": [
        {
          "output_type": "stream",
          "name": "stdout",
          "text": [
            "[1] loss: 0.037\n",
            "[2] loss: 0.011\n",
            "[3] loss: 0.016\n",
            "[4] loss: 0.017\n",
            "[5] loss: 0.010\n",
            "[6] loss: 0.007\n",
            "[7] loss: 0.006\n",
            "[8] loss: 0.029\n",
            "[9] loss: 0.006\n",
            "[10] loss: 0.003\n",
            "[11] loss: 0.006\n",
            "[12] loss: 0.013\n",
            "[13] loss: 0.002\n",
            "[14] loss: 0.006\n",
            "[15] loss: 0.004\n",
            "[16] loss: 0.003\n",
            "[17] loss: 0.003\n",
            "[18] loss: 0.006\n",
            "[19] loss: 0.002\n",
            "[20] loss: 0.003\n",
            "[21] loss: 0.006\n",
            "[22] loss: 0.007\n",
            "[23] loss: 0.002\n",
            "[24] loss: 0.013\n",
            "[25] loss: 0.001\n",
            "[26] loss: 0.002\n",
            "[27] loss: 0.001\n",
            "[28] loss: 0.002\n",
            "[29] loss: 0.001\n",
            "[30] loss: 0.001\n",
            "[31] loss: 0.002\n",
            "[32] loss: 0.003\n",
            "[33] loss: 0.001\n",
            "[34] loss: 0.001\n",
            "[35] loss: 0.001\n",
            "[36] loss: 0.001\n",
            "[37] loss: 0.001\n",
            "[38] loss: 0.001\n",
            "[39] loss: 0.001\n",
            "[40] loss: 0.003\n",
            "[41] loss: 0.001\n",
            "[42] loss: 0.001\n",
            "[43] loss: 0.001\n",
            "[44] loss: 0.002\n",
            "[45] loss: 0.001\n",
            "[46] loss: 0.001\n",
            "[47] loss: 0.001\n",
            "[48] loss: 0.007\n",
            "[49] loss: 0.001\n",
            "[50] loss: 0.001\n",
            "[51] loss: 0.001\n",
            "[52] loss: 0.001\n",
            "[53] loss: 0.001\n",
            "[54] loss: 0.001\n",
            "[55] loss: 0.001\n",
            "[56] loss: 0.001\n",
            "[57] loss: 0.001\n",
            "[58] loss: 0.000\n",
            "[59] loss: 0.008\n",
            "[60] loss: 0.001\n",
            "[61] loss: 0.000\n",
            "[62] loss: 0.001\n",
            "[63] loss: 0.001\n",
            "[64] loss: 0.001\n",
            "[65] loss: 0.001\n",
            "[66] loss: 0.001\n",
            "[67] loss: 0.005\n",
            "[68] loss: 0.000\n",
            "[69] loss: 0.001\n",
            "[70] loss: 0.003\n",
            "[71] loss: 0.001\n",
            "[72] loss: 0.001\n",
            "[73] loss: 0.002\n",
            "[74] loss: 0.002\n",
            "[75] loss: 0.001\n",
            "[76] loss: 0.001\n",
            "[77] loss: 0.001\n",
            "[78] loss: 0.001\n",
            "[79] loss: 0.001\n",
            "[80] loss: 0.001\n",
            "[81] loss: 0.000\n",
            "[82] loss: 0.001\n",
            "[83] loss: 0.001\n",
            "[84] loss: 0.001\n",
            "[85] loss: 0.001\n",
            "[86] loss: 0.001\n",
            "[87] loss: 0.001\n",
            "[88] loss: 0.002\n",
            "[89] loss: 0.001\n",
            "[90] loss: 0.007\n",
            "[91] loss: 0.004\n",
            "[92] loss: 0.001\n",
            "[93] loss: 0.005\n",
            "[94] loss: 0.001\n",
            "[95] loss: 0.001\n",
            "[96] loss: 0.000\n",
            "[97] loss: 0.001\n",
            "[98] loss: 0.002\n",
            "[99] loss: 0.001\n",
            "[100] loss: 0.001\n",
            "Finished Training\n"
          ]
        }
      ]
    },
    {
      "cell_type": "markdown",
      "source": [
        "# Testing the outputs"
      ],
      "metadata": {
        "id": "Y_JhN76Uy9Jf"
      }
    },
    {
      "cell_type": "code",
      "source": [
        "PATH = 'mymodel1.pt'\n",
        "torch.save(net,PATH)"
      ],
      "metadata": {
        "id": "Ig8yOG7O99yL"
      },
      "execution_count": null,
      "outputs": []
    },
    {
      "cell_type": "code",
      "source": [
        "import os\n",
        "pythonfile = 'mymodel1.pt'\n",
        " \n",
        "# if the file is present in current directory,\n",
        "# then no need to specify the whole location\n",
        "print(\"Path of the file..\", os.path.abspath(pythonfile))\n",
        " "
      ],
      "metadata": {
        "colab": {
          "base_uri": "https://localhost:8080/"
        },
        "id": "WlKf6Y8gI_RK",
        "outputId": "78beda33-aec9-4d86-cf36-3c400bbd1bcb"
      },
      "execution_count": null,
      "outputs": [
        {
          "output_type": "stream",
          "name": "stdout",
          "text": [
            "Path of the file.. /content/mymodel1.pt\n"
          ]
        }
      ]
    },
    {
      "cell_type": "code",
      "source": [
        "from prettytable import PrettyTable\n",
        "\n",
        "def count_parameters(model):\n",
        "    table = PrettyTable([\"Modules\", \"Parameters\"])\n",
        "    total_params = 0\n",
        "    for name, parameter in model.named_parameters():\n",
        "        if not parameter.requires_grad: continue\n",
        "        params = parameter.numel()\n",
        "        table.add_row([name, params])\n",
        "        total_params+=params\n",
        "    print(table)\n",
        "    print(f\"Total Trainable Params: {total_params}\")\n",
        "    return total_params\n",
        "    \n",
        "count_parameters(net)"
      ],
      "metadata": {
        "id": "79T8cHOKFvo1",
        "colab": {
          "base_uri": "https://localhost:8080/"
        },
        "outputId": "31a9717e-6baf-40ff-9338-660e8f1cefb2"
      },
      "execution_count": null,
      "outputs": [
        {
          "output_type": "stream",
          "name": "stdout",
          "text": [
            "+-----------+------------+\n",
            "|  Modules  | Parameters |\n",
            "+-----------+------------+\n",
            "| l1.weight |     81     |\n",
            "|  l1.bias  |     9      |\n",
            "| l2.weight |    2700    |\n",
            "|  l2.bias  |    300     |\n",
            "| l3.weight |   150000   |\n",
            "|  l3.bias  |    500     |\n",
            "| l4.weight |   500000   |\n",
            "|  l4.bias  |    1000    |\n",
            "| l5.weight |   500000   |\n",
            "|  l5.bias  |    500     |\n",
            "| l6.weight |   150000   |\n",
            "|  l6.bias  |    300     |\n",
            "| pz.weight |    300     |\n",
            "|  pz.bias  |     1      |\n",
            "+-----------+------------+\n",
            "Total Trainable Params: 1305691\n"
          ]
        },
        {
          "output_type": "execute_result",
          "data": {
            "text/plain": [
              "1305691"
            ]
          },
          "metadata": {},
          "execution_count": 48
        }
      ]
    },
    {
      "cell_type": "code",
      "source": [
        "predicted_pz = net(bb_test)"
      ],
      "metadata": {
        "id": "J3t0buPuzn9n"
      },
      "execution_count": null,
      "outputs": []
    },
    {
      "cell_type": "code",
      "source": [
        "bb_test[0]"
      ],
      "metadata": {
        "id": "THfCU6nnVon7",
        "colab": {
          "base_uri": "https://localhost:8080/"
        },
        "outputId": "aebd708f-fb48-4836-fa77-0c713e509a08"
      },
      "execution_count": null,
      "outputs": [
        {
          "output_type": "execute_result",
          "data": {
            "text/plain": [
              "tensor([0.0208, 0.0434, 0.0932, 0.0459, 0.1229, 0.3003, 0.2059, 0.4381, 0.8046])"
            ]
          },
          "metadata": {},
          "execution_count": 50
        }
      ]
    },
    {
      "cell_type": "code",
      "source": [
        "bb_test.size()"
      ],
      "metadata": {
        "id": "bhaRPSX_Vv05",
        "colab": {
          "base_uri": "https://localhost:8080/"
        },
        "outputId": "5c07458a-108e-41bc-84b6-18d8b773ef2b"
      },
      "execution_count": null,
      "outputs": [
        {
          "output_type": "execute_result",
          "data": {
            "text/plain": [
              "torch.Size([1299, 9])"
            ]
          },
          "metadata": {},
          "execution_count": 51
        }
      ]
    },
    {
      "cell_type": "code",
      "source": [
        "pz_test.size()"
      ],
      "metadata": {
        "id": "O3-Nr4CwaPRg",
        "colab": {
          "base_uri": "https://localhost:8080/"
        },
        "outputId": "2453c1b8-4797-4266-9029-a7a3464beeb2"
      },
      "execution_count": null,
      "outputs": [
        {
          "output_type": "execute_result",
          "data": {
            "text/plain": [
              "torch.Size([1299, 1])"
            ]
          },
          "metadata": {},
          "execution_count": 52
        }
      ]
    },
    {
      "cell_type": "code",
      "source": [
        "predicted_pz"
      ],
      "metadata": {
        "id": "osMYZ3kU6lYG",
        "colab": {
          "base_uri": "https://localhost:8080/"
        },
        "outputId": "cc51588e-b12b-4ee7-a3b4-45cda0c8f5c0"
      },
      "execution_count": null,
      "outputs": [
        {
          "output_type": "execute_result",
          "data": {
            "text/plain": [
              "tensor([[0.3448],\n",
              "        [0.2685],\n",
              "        [0.5159],\n",
              "        ...,\n",
              "        [0.6485],\n",
              "        [0.7913],\n",
              "        [0.6772]], grad_fn=<GeluBackward0>)"
            ]
          },
          "metadata": {},
          "execution_count": 53
        }
      ]
    },
    {
      "cell_type": "code",
      "source": [
        "pz_test"
      ],
      "metadata": {
        "id": "yS64XDWwgG9q",
        "colab": {
          "base_uri": "https://localhost:8080/"
        },
        "outputId": "f22b2caf-9eb0-4b8d-9207-29f7f8fd790a"
      },
      "execution_count": null,
      "outputs": [
        {
          "output_type": "execute_result",
          "data": {
            "text/plain": [
              "tensor([[0.3272],\n",
              "        [0.2653],\n",
              "        [0.5290],\n",
              "        ...,\n",
              "        [0.6705],\n",
              "        [0.7544],\n",
              "        [0.6723]])"
            ]
          },
          "metadata": {},
          "execution_count": 54
        }
      ]
    },
    {
      "cell_type": "code",
      "source": [
        "x = pz_test.detach().numpy()\n",
        "y = predicted_pz.detach().numpy()\n",
        "import matplotlib.pyplot as plt\n",
        "plt.scatter(x,y, alpha = 0.1)\n",
        "plt.plot(x,x, 'b-')\n",
        "plt.xlabel('True redshift')\n",
        "plt.ylabel('Predicted redshift')"
      ],
      "metadata": {
        "id": "C2FxL4EDaiMH",
        "colab": {
          "base_uri": "https://localhost:8080/",
          "height": 296
        },
        "outputId": "324f6041-8141-40cc-9dda-8080b81645d5"
      },
      "execution_count": null,
      "outputs": [
        {
          "output_type": "execute_result",
          "data": {
            "text/plain": [
              "Text(0, 0.5, 'Predicted redshift')"
            ]
          },
          "metadata": {},
          "execution_count": 55
        },
        {
          "output_type": "display_data",
          "data": {
            "text/plain": [
              "<Figure size 432x288 with 1 Axes>"
            ],
            "image/png": "[encoded data removed]"
          },
          "metadata": {
            "needs_background": "light"
          }
        }
      ]
    },
    {
      "cell_type": "markdown",
      "source": [
        "# Metrics for Measurement"
      ],
      "metadata": {
        "id": "SKbUknqYQQ9u"
      }
    },
    {
      "cell_type": "code",
      "source": [
        "dz = np.ones([len(y),1])\n",
        "for i in range(len(y)):\n",
        "  dz[i] = (y[i] - x[i])/(1 + x[i])"
      ],
      "metadata": {
        "id": "0jZ7bmsqgBT2"
      },
      "execution_count": null,
      "outputs": []
    },
    {
      "cell_type": "code",
      "source": [
        "np.mean(dz)"
      ],
      "metadata": {
        "colab": {
          "base_uri": "https://localhost:8080/"
        },
        "id": "QbMTnesnQ26S",
        "outputId": "095d0090-03b8-458e-bac7-145f4737c0a0"
      },
      "execution_count": null,
      "outputs": [
        {
          "output_type": "execute_result",
          "data": {
            "text/plain": [
              "0.0004913223653986329"
            ]
          },
          "metadata": {},
          "execution_count": 57
        }
      ]
    },
    {
      "cell_type": "code",
      "source": [
        "arrx = x\n",
        "arry = dz/(1 + x)"
      ],
      "metadata": {
        "id": "cWWCK8RNRKdu"
      },
      "execution_count": null,
      "outputs": []
    },
    {
      "cell_type": "code",
      "source": [
        "plt.scatter(arrx,arry,alpha=0.5)"
      ],
      "metadata": {
        "colab": {
          "base_uri": "https://localhost:8080/",
          "height": 282
        },
        "id": "u25t_ZMIRmOu",
        "outputId": "565b218f-13cb-468e-dad5-7d276095396d"
      },
      "execution_count": null,
      "outputs": [
        {
          "output_type": "execute_result",
          "data": {
            "text/plain": [
              "<matplotlib.collections.PathCollection at 0x7f6acb2f2b10>"
            ]
          },
          "metadata": {},
          "execution_count": 59
        },
        {
          "output_type": "display_data",
          "data": {
            "text/plain": [
              "<Figure size 432x288 with 1 Axes>"
            ],
            "image/png": "[encoded data removed]"
          },
          "metadata": {
            "needs_background": "light"
          }
        }
      ]
    },
    {
      "cell_type": "code",
      "source": [
        "np.mean(arry)"
      ],
      "metadata": {
        "colab": {
          "base_uri": "https://localhost:8080/"
        },
        "id": "FBHxyR10Rq1m",
        "outputId": "0e7a6918-507f-4bef-dbdc-dae39e565c7a"
      },
      "execution_count": null,
      "outputs": [
        {
          "output_type": "execute_result",
          "data": {
            "text/plain": [
              "0.0015018035716473962"
            ]
          },
          "metadata": {},
          "execution_count": 60
        }
      ]
    },
    {
      "cell_type": "code",
      "source": [
        "np.std(dz)"
      ],
      "metadata": {
        "colab": {
          "base_uri": "https://localhost:8080/"
        },
        "id": "G_dkV1ZTSQ09",
        "outputId": "d69cdd92-5eab-4f5f-be1e-34a6166aa0a3"
      },
      "execution_count": null,
      "outputs": [
        {
          "output_type": "execute_result",
          "data": {
            "text/plain": [
              "0.043561120093195696"
            ]
          },
          "metadata": {},
          "execution_count": 61
        }
      ]
    },
    {
      "cell_type": "code",
      "source": [
        "from sklearn.metrics import mean_gamma_deviance as sigma"
      ],
      "metadata": {
        "id": "rrJIT16fTImv"
      },
      "execution_count": null,
      "outputs": []
    },
    {
      "cell_type": "code",
      "source": [
        "x"
      ],
      "metadata": {
        "colab": {
          "base_uri": "https://localhost:8080/"
        },
        "id": "3CLIVBY3Cyt4",
        "outputId": "ce710e17-cc59-4615-8550-4dff80c9b61a"
      },
      "execution_count": null,
      "outputs": [
        {
          "output_type": "execute_result",
          "data": {
            "text/plain": [
              "array([[0.3272],\n",
              "       [0.2653],\n",
              "       [0.529 ],\n",
              "       ...,\n",
              "       [0.6705],\n",
              "       [0.7544],\n",
              "       [0.6723]], dtype=float32)"
            ]
          },
          "metadata": {},
          "execution_count": 67
        }
      ]
    },
    {
      "cell_type": "code",
      "source": [
        "np.where(y==0)"
      ],
      "metadata": {
        "id": "th58wA0XDAaV",
        "colab": {
          "base_uri": "https://localhost:8080/"
        },
        "outputId": "a5b0ca8d-2899-4609-90fd-6b2463dc0a0e"
      },
      "execution_count": null,
      "outputs": [
        {
          "output_type": "execute_result",
          "data": {
            "text/plain": [
              "(array([1292]), array([0]))"
            ]
          },
          "metadata": {},
          "execution_count": 75
        }
      ]
    },
    {
      "cell_type": "code",
      "source": [
        "y[1292]"
      ],
      "metadata": {
        "colab": {
          "base_uri": "https://localhost:8080/"
        },
        "id": "3-K2surNHkQx",
        "outputId": "392023c9-f76e-4149-9dc1-84b19c2a8e8e"
      },
      "execution_count": null,
      "outputs": [
        {
          "output_type": "execute_result",
          "data": {
            "text/plain": [
              "array([0.], dtype=float32)"
            ]
          },
          "metadata": {},
          "execution_count": 76
        }
      ]
    },
    {
      "cell_type": "code",
      "source": [
        "ynew = np.delete(y,[1292,0])\n",
        "xnew = np.delete(x,[1292,0])"
      ],
      "metadata": {
        "id": "RgqOa4lyH7JW"
      },
      "execution_count": null,
      "outputs": []
    },
    {
      "cell_type": "code",
      "source": [
        "sigma(xnew,ynew)"
      ],
      "metadata": {
        "colab": {
          "base_uri": "https://localhost:8080/"
        },
        "id": "xBV-Ovu7HEIX",
        "outputId": "c16c4581-10b2-4e43-e5c8-1c2af432b206"
      },
      "execution_count": null,
      "outputs": [
        {
          "output_type": "execute_result",
          "data": {
            "text/plain": [
              "0.039639246"
            ]
          },
          "metadata": {},
          "execution_count": 78
        }
      ]
    },
    {
      "cell_type": "code",
      "source": [],
      "metadata": {
        "id": "PERd5umLHG8c"
      },
      "execution_count": null,
      "outputs": []
    }
  ]
}