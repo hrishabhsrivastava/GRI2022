{
  "nbformat": 4,
  "nbformat_minor": 0,
  "metadata": {
    "colab": {
      "provenance": []
    },
    "kernelspec": {
      "name": "python3",
      "display_name": "Python 3"
    },
    "language_info": {
      "name": "python"
    }
  },
  "cells": [
    {
      "cell_type": "markdown",
      "source": [
        "# Comparing the linear and MTL network"
      ],
      "metadata": {
        "id": "yXWD4BlgyiNF"
      }
    },
    {
      "cell_type": "code",
      "execution_count": null,
      "metadata": {
        "id": "Bp4M1OfdyZ5o"
      },
      "outputs": [],
      "source": [
        "from astropy.io import fits\n",
        "import pandas as pd\n",
        "import matplotlib.pyplot as plt\n",
        "import numpy as np\n",
        "from scipy import stats\n",
        "from tabulate import tabulate\n",
        "import socket\n",
        "import math"
      ]
    },
    {
      "cell_type": "code",
      "source": [
        "datafile = fits.open('/content/sample_data/PAU_narrowband_data_full.fits')"
      ],
      "metadata": {
        "id": "49V3DKIsyttV"
      },
      "execution_count": null,
      "outputs": []
    },
    {
      "cell_type": "code",
      "source": [
        "big_endian = np.array(datafile[1].data)"
      ],
      "metadata": {
        "id": "P1zeLRNpyz1k"
      },
      "execution_count": null,
      "outputs": []
    },
    {
      "cell_type": "code",
      "source": [
        "little_endian = big_endian.byteswap().newbyteorder()"
      ],
      "metadata": {
        "id": "fp5ITapS0Hv4"
      },
      "execution_count": null,
      "outputs": []
    },
    {
      "cell_type": "code",
      "source": [
        "dataframe = pd.DataFrame(little_endian)"
      ],
      "metadata": {
        "id": "noFTawps0VpJ"
      },
      "execution_count": null,
      "outputs": []
    },
    {
      "cell_type": "code",
      "source": [
        "dataframe"
      ],
      "metadata": {
        "colab": {
          "base_uri": "https://localhost:8080/",
          "height": 488
        },
        "id": "qfxVoRnc0dj4",
        "outputId": "a99b449d-d4ff-4c24-f4e8-0dda9762b073"
      },
      "execution_count": null,
      "outputs": [
        {
          "output_type": "execute_result",
          "data": {
            "text/plain": [
              "      ref_id     zb    odds  pz_width  zb_mean        chi2   ebv      qz  \\\n",
              "0      80397  0.544  0.8210    0.0083   0.5450   41.313702  0.45  0.4166   \n",
              "1      87325  0.798  0.5739    0.0222   0.7958   59.148399  0.50  2.2850   \n",
              "2      86977  0.243  0.8964    0.0055   0.2432  111.064201  0.50  0.6862   \n",
              "3     111261  0.704  0.7540    0.0121   0.7028   35.295300  0.50  0.5655   \n",
              "4     110401  0.936  0.6924    0.0739   0.9314   34.369900  0.50  3.6704   \n",
              "...      ...    ...     ...       ...      ...         ...   ...     ...   \n",
              "6487  103771  0.702  0.5763    0.0175   0.7000   66.320602  0.00  2.0127   \n",
              "6488   11591  0.321  0.7246    0.0123   0.3235   39.670101  0.35  0.6738   \n",
              "6489    1403  0.527  0.4821    0.0377   0.5272   31.482300  0.50  2.4633   \n",
              "6490  102783  0.585  0.4651    0.0437   0.5829   36.222698  0.50  3.4052   \n",
              "6491   24559  0.662  0.5888    0.0175   0.6609   25.225800  0.50  0.7505   \n",
              "\n",
              "      best_run        ra  ...  flux_error_nb755  flux_error_nb765  \\\n",
              "0           23  150.6382  ...            4.9193            6.4177   \n",
              "1           34  150.1789  ...            7.1171            7.7600   \n",
              "2           34  150.0916  ...            6.3193            7.0438   \n",
              "3           14  149.5003  ...            7.1861            8.6612   \n",
              "4           14  149.5225  ...            3.4669            4.8872   \n",
              "...        ...       ...  ...               ...               ...   \n",
              "6487         0  150.1184  ...            3.8849            4.2178   \n",
              "6488        31  149.9980  ...            6.6791           10.2385   \n",
              "6489        34  149.9979  ...            6.2800            6.8168   \n",
              "6490        14  150.1458  ...            4.4939            4.7786   \n",
              "6491        24  149.8963  ...            5.6460            5.2998   \n",
              "\n",
              "      flux_error_nb775  flux_error_nb785  flux_error_nb795  flux_error_nb805  \\\n",
              "0               4.6348            5.9254            6.3482            4.8955   \n",
              "1               6.5153            6.6880            7.4494            7.3289   \n",
              "2               5.1723            5.7361            6.6661            6.6789   \n",
              "3               7.9072           10.4661            8.7725            7.5637   \n",
              "4               4.3785            5.5476            5.0291            4.2719   \n",
              "...                ...               ...               ...               ...   \n",
              "6487            5.1221            5.7916            5.3083            4.5736   \n",
              "6488            7.7635            7.8618            9.4040            6.4277   \n",
              "6489            7.8549            6.1244            7.9150            5.2286   \n",
              "6490            6.6515            6.3100            7.3730            5.8312   \n",
              "6491            4.8122            5.4054            5.0915            4.8957   \n",
              "\n",
              "      flux_error_nb815  flux_error_nb825  flux_error_nb835  flux_error_nb845  \n",
              "0               3.8653            4.8409            6.0276            7.0980  \n",
              "1               9.1884            6.1926            8.5794            8.4658  \n",
              "2               4.6647            5.4333            7.1245            7.5563  \n",
              "3               7.5988           10.2961            8.8075           12.4692  \n",
              "4               4.0418            4.8604            4.9919            7.6921  \n",
              "...                ...               ...               ...               ...  \n",
              "6487            3.6708            5.9066            3.8129            4.4551  \n",
              "6488            5.4750            6.6183           11.5353            9.7041  \n",
              "6489            4.5011            5.3341            7.9689            7.8121  \n",
              "6490            4.2179            6.5242            4.7222            5.1731  \n",
              "6491            3.9270            4.5735            6.8962            6.7269  \n",
              "\n",
              "[6492 rows x 126 columns]"
            ],
            "text/html": [
              "\n",
              "  <div id=\"df-6dabb8a8-1b4b-47d4-95dc-b626cebb3388\">\n",
              "    <div class=\"colab-df-container\">\n",
              "      <div>\n",
              "<style scoped>\n",
              "    .dataframe tbody tr th:only-of-type {\n",
              "        vertical-align: middle;\n",
              "    }\n",
              "\n",
              "    .dataframe tbody tr th {\n",
              "        vertical-align: top;\n",
              "    }\n",
              "\n",
              "    .dataframe thead th {\n",
              "        text-align: right;\n",
              "    }\n",
              "</style>\n",
              "<table border=\"1\" class=\"dataframe\">\n",
              "  <thead>\n",
              "    <tr style=\"text-align: right;\">\n",
              "      <th></th>\n",
              "      <th>ref_id</th>\n",
              "      <th>zb</th>\n",
              "      <th>odds</th>\n",
              "      <th>pz_width</th>\n",
              "      <th>zb_mean</th>\n",
              "      <th>chi2</th>\n",
              "      <th>ebv</th>\n",
              "      <th>qz</th>\n",
              "      <th>best_run</th>\n",
              "      <th>ra</th>\n",
              "      <th>...</th>\n",
              "      <th>flux_error_nb755</th>\n",
              "      <th>flux_error_nb765</th>\n",
              "      <th>flux_error_nb775</th>\n",
              "      <th>flux_error_nb785</th>\n",
              "      <th>flux_error_nb795</th>\n",
              "      <th>flux_error_nb805</th>\n",
              "      <th>flux_error_nb815</th>\n",
              "      <th>flux_error_nb825</th>\n",
              "      <th>flux_error_nb835</th>\n",
              "      <th>flux_error_nb845</th>\n",
              "    </tr>\n",
              "  </thead>\n",
              "  <tbody>\n",
              "    <tr>\n",
              "      <th>0</th>\n",
              "      <td>80397</td>\n",
              "      <td>0.544</td>\n",
              "      <td>0.8210</td>\n",
              "      <td>0.0083</td>\n",
              "      <td>0.5450</td>\n",
              "      <td>41.313702</td>\n",
              "      <td>0.45</td>\n",
              "      <td>0.4166</td>\n",
              "      <td>23</td>\n",
              "      <td>150.6382</td>\n",
              "      <td>...</td>\n",
              "      <td>4.9193</td>\n",
              "      <td>6.4177</td>\n",
              "      <td>4.6348</td>\n",
              "      <td>5.9254</td>\n",
              "      <td>6.3482</td>\n",
              "      <td>4.8955</td>\n",
              "      <td>3.8653</td>\n",
              "      <td>4.8409</td>\n",
              "      <td>6.0276</td>\n",
              "      <td>7.0980</td>\n",
              "    </tr>\n",
              "    <tr>\n",
              "      <th>1</th>\n",
              "      <td>87325</td>\n",
              "      <td>0.798</td>\n",
              "      <td>0.5739</td>\n",
              "      <td>0.0222</td>\n",
              "      <td>0.7958</td>\n",
              "      <td>59.148399</td>\n",
              "      <td>0.50</td>\n",
              "      <td>2.2850</td>\n",
              "      <td>34</td>\n",
              "      <td>150.1789</td>\n",
              "      <td>...</td>\n",
              "      <td>7.1171</td>\n",
              "      <td>7.7600</td>\n",
              "      <td>6.5153</td>\n",
              "      <td>6.6880</td>\n",
              "      <td>7.4494</td>\n",
              "      <td>7.3289</td>\n",
              "      <td>9.1884</td>\n",
              "      <td>6.1926</td>\n",
              "      <td>8.5794</td>\n",
              "      <td>8.4658</td>\n",
              "    </tr>\n",
              "    <tr>\n",
              "      <th>2</th>\n",
              "      <td>86977</td>\n",
              "      <td>0.243</td>\n",
              "      <td>0.8964</td>\n",
              "      <td>0.0055</td>\n",
              "      <td>0.2432</td>\n",
              "      <td>111.064201</td>\n",
              "      <td>0.50</td>\n",
              "      <td>0.6862</td>\n",
              "      <td>34</td>\n",
              "      <td>150.0916</td>\n",
              "      <td>...</td>\n",
              "      <td>6.3193</td>\n",
              "      <td>7.0438</td>\n",
              "      <td>5.1723</td>\n",
              "      <td>5.7361</td>\n",
              "      <td>6.6661</td>\n",
              "      <td>6.6789</td>\n",
              "      <td>4.6647</td>\n",
              "      <td>5.4333</td>\n",
              "      <td>7.1245</td>\n",
              "      <td>7.5563</td>\n",
              "    </tr>\n",
              "    <tr>\n",
              "      <th>3</th>\n",
              "      <td>111261</td>\n",
              "      <td>0.704</td>\n",
              "      <td>0.7540</td>\n",
              "      <td>0.0121</td>\n",
              "      <td>0.7028</td>\n",
              "      <td>35.295300</td>\n",
              "      <td>0.50</td>\n",
              "      <td>0.5655</td>\n",
              "      <td>14</td>\n",
              "      <td>149.5003</td>\n",
              "      <td>...</td>\n",
              "      <td>7.1861</td>\n",
              "      <td>8.6612</td>\n",
              "      <td>7.9072</td>\n",
              "      <td>10.4661</td>\n",
              "      <td>8.7725</td>\n",
              "      <td>7.5637</td>\n",
              "      <td>7.5988</td>\n",
              "      <td>10.2961</td>\n",
              "      <td>8.8075</td>\n",
              "      <td>12.4692</td>\n",
              "    </tr>\n",
              "    <tr>\n",
              "      <th>4</th>\n",
              "      <td>110401</td>\n",
              "      <td>0.936</td>\n",
              "      <td>0.6924</td>\n",
              "      <td>0.0739</td>\n",
              "      <td>0.9314</td>\n",
              "      <td>34.369900</td>\n",
              "      <td>0.50</td>\n",
              "      <td>3.6704</td>\n",
              "      <td>14</td>\n",
              "      <td>149.5225</td>\n",
              "      <td>...</td>\n",
              "      <td>3.4669</td>\n",
              "      <td>4.8872</td>\n",
              "      <td>4.3785</td>\n",
              "      <td>5.5476</td>\n",
              "      <td>5.0291</td>\n",
              "      <td>4.2719</td>\n",
              "      <td>4.0418</td>\n",
              "      <td>4.8604</td>\n",
              "      <td>4.9919</td>\n",
              "      <td>7.6921</td>\n",
              "    </tr>\n",
              "    <tr>\n",
              "      <th>...</th>\n",
              "      <td>...</td>\n",
              "      <td>...</td>\n",
              "      <td>...</td>\n",
              "      <td>...</td>\n",
              "      <td>...</td>\n",
              "      <td>...</td>\n",
              "      <td>...</td>\n",
              "      <td>...</td>\n",
              "      <td>...</td>\n",
              "      <td>...</td>\n",
              "      <td>...</td>\n",
              "      <td>...</td>\n",
              "      <td>...</td>\n",
              "      <td>...</td>\n",
              "      <td>...</td>\n",
              "      <td>...</td>\n",
              "      <td>...</td>\n",
              "      <td>...</td>\n",
              "      <td>...</td>\n",
              "      <td>...</td>\n",
              "      <td>...</td>\n",
              "    </tr>\n",
              "    <tr>\n",
              "      <th>6487</th>\n",
              "      <td>103771</td>\n",
              "      <td>0.702</td>\n",
              "      <td>0.5763</td>\n",
              "      <td>0.0175</td>\n",
              "      <td>0.7000</td>\n",
              "      <td>66.320602</td>\n",
              "      <td>0.00</td>\n",
              "      <td>2.0127</td>\n",
              "      <td>0</td>\n",
              "      <td>150.1184</td>\n",
              "      <td>...</td>\n",
              "      <td>3.8849</td>\n",
              "      <td>4.2178</td>\n",
              "      <td>5.1221</td>\n",
              "      <td>5.7916</td>\n",
              "      <td>5.3083</td>\n",
              "      <td>4.5736</td>\n",
              "      <td>3.6708</td>\n",
              "      <td>5.9066</td>\n",
              "      <td>3.8129</td>\n",
              "      <td>4.4551</td>\n",
              "    </tr>\n",
              "    <tr>\n",
              "      <th>6488</th>\n",
              "      <td>11591</td>\n",
              "      <td>0.321</td>\n",
              "      <td>0.7246</td>\n",
              "      <td>0.0123</td>\n",
              "      <td>0.3235</td>\n",
              "      <td>39.670101</td>\n",
              "      <td>0.35</td>\n",
              "      <td>0.6738</td>\n",
              "      <td>31</td>\n",
              "      <td>149.9980</td>\n",
              "      <td>...</td>\n",
              "      <td>6.6791</td>\n",
              "      <td>10.2385</td>\n",
              "      <td>7.7635</td>\n",
              "      <td>7.8618</td>\n",
              "      <td>9.4040</td>\n",
              "      <td>6.4277</td>\n",
              "      <td>5.4750</td>\n",
              "      <td>6.6183</td>\n",
              "      <td>11.5353</td>\n",
              "      <td>9.7041</td>\n",
              "    </tr>\n",
              "    <tr>\n",
              "      <th>6489</th>\n",
              "      <td>1403</td>\n",
              "      <td>0.527</td>\n",
              "      <td>0.4821</td>\n",
              "      <td>0.0377</td>\n",
              "      <td>0.5272</td>\n",
              "      <td>31.482300</td>\n",
              "      <td>0.50</td>\n",
              "      <td>2.4633</td>\n",
              "      <td>34</td>\n",
              "      <td>149.9979</td>\n",
              "      <td>...</td>\n",
              "      <td>6.2800</td>\n",
              "      <td>6.8168</td>\n",
              "      <td>7.8549</td>\n",
              "      <td>6.1244</td>\n",
              "      <td>7.9150</td>\n",
              "      <td>5.2286</td>\n",
              "      <td>4.5011</td>\n",
              "      <td>5.3341</td>\n",
              "      <td>7.9689</td>\n",
              "      <td>7.8121</td>\n",
              "    </tr>\n",
              "    <tr>\n",
              "      <th>6490</th>\n",
              "      <td>102783</td>\n",
              "      <td>0.585</td>\n",
              "      <td>0.4651</td>\n",
              "      <td>0.0437</td>\n",
              "      <td>0.5829</td>\n",
              "      <td>36.222698</td>\n",
              "      <td>0.50</td>\n",
              "      <td>3.4052</td>\n",
              "      <td>14</td>\n",
              "      <td>150.1458</td>\n",
              "      <td>...</td>\n",
              "      <td>4.4939</td>\n",
              "      <td>4.7786</td>\n",
              "      <td>6.6515</td>\n",
              "      <td>6.3100</td>\n",
              "      <td>7.3730</td>\n",
              "      <td>5.8312</td>\n",
              "      <td>4.2179</td>\n",
              "      <td>6.5242</td>\n",
              "      <td>4.7222</td>\n",
              "      <td>5.1731</td>\n",
              "    </tr>\n",
              "    <tr>\n",
              "      <th>6491</th>\n",
              "      <td>24559</td>\n",
              "      <td>0.662</td>\n",
              "      <td>0.5888</td>\n",
              "      <td>0.0175</td>\n",
              "      <td>0.6609</td>\n",
              "      <td>25.225800</td>\n",
              "      <td>0.50</td>\n",
              "      <td>0.7505</td>\n",
              "      <td>24</td>\n",
              "      <td>149.8963</td>\n",
              "      <td>...</td>\n",
              "      <td>5.6460</td>\n",
              "      <td>5.2998</td>\n",
              "      <td>4.8122</td>\n",
              "      <td>5.4054</td>\n",
              "      <td>5.0915</td>\n",
              "      <td>4.8957</td>\n",
              "      <td>3.9270</td>\n",
              "      <td>4.5735</td>\n",
              "      <td>6.8962</td>\n",
              "      <td>6.7269</td>\n",
              "    </tr>\n",
              "  </tbody>\n",
              "</table>\n",
              "<p>6492 rows × 126 columns</p>\n",
              "</div>\n",
              "      <button class=\"colab-df-convert\" onclick=\"convertToInteractive('df-6dabb8a8-1b4b-47d4-95dc-b626cebb3388')\"\n",
              "              title=\"Convert this dataframe to an interactive table.\"\n",
              "              style=\"display:none;\">\n",
              "        \n",
              "  <svg xmlns=\"http://www.w3.org/2000/svg\" height=\"24px\"viewBox=\"0 0 24 24\"\n",
              "       width=\"24px\">\n",
              "    <path d=\"M0 0h24v24H0V0z\" fill=\"none\"/>\n",
              "    <path d=\"M18.56 5.44l.94 2.06.94-2.06 2.06-.94-2.06-.94-.94-2.06-.94 2.06-2.06.94zm-11 1L8.5 8.5l.94-2.06 2.06-.94-2.06-.94L8.5 2.5l-.94 2.06-2.06.94zm10 10l.94 2.06.94-2.06 2.06-.94-2.06-.94-.94-2.06-.94 2.06-2.06.94z\"/><path d=\"M17.41 7.96l-1.37-1.37c-.4-.4-.92-.59-1.43-.59-.52 0-1.04.2-1.43.59L10.3 9.45l-7.72 7.72c-.78.78-.78 2.05 0 2.83L4 21.41c.39.39.9.59 1.41.59.51 0 1.02-.2 1.41-.59l7.78-7.78 2.81-2.81c.8-.78.8-2.07 0-2.86zM5.41 20L4 18.59l7.72-7.72 1.47 1.35L5.41 20z\"/>\n",
              "  </svg>\n",
              "      </button>\n",
              "      \n",
              "  <style>\n",
              "    .colab-df-container {\n",
              "      display:flex;\n",
              "      flex-wrap:wrap;\n",
              "      gap: 12px;\n",
              "    }\n",
              "\n",
              "    .colab-df-convert {\n",
              "      background-color: #E8F0FE;\n",
              "      border: none;\n",
              "      border-radius: 50%;\n",
              "      cursor: pointer;\n",
              "      display: none;\n",
              "      fill: #1967D2;\n",
              "      height: 32px;\n",
              "      padding: 0 0 0 0;\n",
              "      width: 32px;\n",
              "    }\n",
              "\n",
              "    .colab-df-convert:hover {\n",
              "      background-color: #E2EBFA;\n",
              "      box-shadow: 0px 1px 2px rgba(60, 64, 67, 0.3), 0px 1px 3px 1px rgba(60, 64, 67, 0.15);\n",
              "      fill: #174EA6;\n",
              "    }\n",
              "\n",
              "    [theme=dark] .colab-df-convert {\n",
              "      background-color: #3B4455;\n",
              "      fill: #D2E3FC;\n",
              "    }\n",
              "\n",
              "    [theme=dark] .colab-df-convert:hover {\n",
              "      background-color: #434B5C;\n",
              "      box-shadow: 0px 1px 3px 1px rgba(0, 0, 0, 0.15);\n",
              "      filter: drop-shadow(0px 1px 2px rgba(0, 0, 0, 0.3));\n",
              "      fill: #FFFFFF;\n",
              "    }\n",
              "  </style>\n",
              "\n",
              "      <script>\n",
              "        const buttonEl =\n",
              "          document.querySelector('#df-6dabb8a8-1b4b-47d4-95dc-b626cebb3388 button.colab-df-convert');\n",
              "        buttonEl.style.display =\n",
              "          google.colab.kernel.accessAllowed ? 'block' : 'none';\n",
              "\n",
              "        async function convertToInteractive(key) {\n",
              "          const element = document.querySelector('#df-6dabb8a8-1b4b-47d4-95dc-b626cebb3388');\n",
              "          const dataTable =\n",
              "            await google.colab.kernel.invokeFunction('convertToInteractive',\n",
              "                                                     [key], {});\n",
              "          if (!dataTable) return;\n",
              "\n",
              "          const docLinkHtml = 'Like what you see? Visit the ' +\n",
              "            '<a target=\"_blank\" href=https://colab.research.google.com/notebooks/data_table.ipynb>data table notebook</a>'\n",
              "            + ' to learn more about interactive tables.';\n",
              "          element.innerHTML = '';\n",
              "          dataTable['output_type'] = 'display_data';\n",
              "          await google.colab.output.renderOutput(dataTable, element);\n",
              "          const docLink = document.createElement('div');\n",
              "          docLink.innerHTML = docLinkHtml;\n",
              "          element.appendChild(docLink);\n",
              "        }\n",
              "      </script>\n",
              "    </div>\n",
              "  </div>\n",
              "  "
            ]
          },
          "metadata": {},
          "execution_count": 163
        }
      ]
    },
    {
      "cell_type": "code",
      "source": [
        "print(dataframe.columns.to_list())"
      ],
      "metadata": {
        "colab": {
          "base_uri": "https://localhost:8080/"
        },
        "id": "PSMlJxMK1lnB",
        "outputId": "1e4de773-1924-4306-bcf1-4fee377c76c4"
      },
      "execution_count": null,
      "outputs": [
        {
          "output_type": "stream",
          "name": "stdout",
          "text": [
            "['ref_id', 'zb', 'odds', 'pz_width', 'zb_mean', 'chi2', 'ebv', 'qz', 'best_run', 'ra', 'dec', 'zp_gal', 'zl68_gal', 'zu68_gal', 'zl99_gal', 'zu99_gal', 'zp_sec', 'dchi', 'imag', 'ei', 'i_auto', 'nbfilt', 'mod_gal', 'type', 'umag', 'bmag', 'vmag', 'gmag', 'rmag', 'zmag', 'icmag', 'jmag', 'kmag', 'mv', 'ebv_gal', 'ebv_int', 'acs_a_image', 'acs_b_image', 'acs_theta_image', 'acs_mag_auto', 'acs_magerr_auto', 'zspec', 'conf', 'f814w', 'r50', 'sersic_n_gim2d', 'flux_nb455', 'flux_nb465', 'flux_nb475', 'flux_nb485', 'flux_nb495', 'flux_nb505', 'flux_nb515', 'flux_nb525', 'flux_nb535', 'flux_nb545', 'flux_nb555', 'flux_nb565', 'flux_nb575', 'flux_nb585', 'flux_nb595', 'flux_nb605', 'flux_nb615', 'flux_nb625', 'flux_nb635', 'flux_nb645', 'flux_nb655', 'flux_nb665', 'flux_nb675', 'flux_nb685', 'flux_nb695', 'flux_nb705', 'flux_nb715', 'flux_nb725', 'flux_nb735', 'flux_nb745', 'flux_nb755', 'flux_nb765', 'flux_nb775', 'flux_nb785', 'flux_nb795', 'flux_nb805', 'flux_nb815', 'flux_nb825', 'flux_nb835', 'flux_nb845', 'flux_error_nb455', 'flux_error_nb465', 'flux_error_nb475', 'flux_error_nb485', 'flux_error_nb495', 'flux_error_nb505', 'flux_error_nb515', 'flux_error_nb525', 'flux_error_nb535', 'flux_error_nb545', 'flux_error_nb555', 'flux_error_nb565', 'flux_error_nb575', 'flux_error_nb585', 'flux_error_nb595', 'flux_error_nb605', 'flux_error_nb615', 'flux_error_nb625', 'flux_error_nb635', 'flux_error_nb645', 'flux_error_nb655', 'flux_error_nb665', 'flux_error_nb675', 'flux_error_nb685', 'flux_error_nb695', 'flux_error_nb705', 'flux_error_nb715', 'flux_error_nb725', 'flux_error_nb735', 'flux_error_nb745', 'flux_error_nb755', 'flux_error_nb765', 'flux_error_nb775', 'flux_error_nb785', 'flux_error_nb795', 'flux_error_nb805', 'flux_error_nb815', 'flux_error_nb825', 'flux_error_nb835', 'flux_error_nb845']\n"
          ]
        }
      ]
    },
    {
      "cell_type": "markdown",
      "source": [
        "Converting to individual numpy arrays"
      ],
      "metadata": {
        "id": "zIORYHoT4Jpt"
      }
    },
    {
      "cell_type": "code",
      "source": [
        "data = dataframe.to_numpy()"
      ],
      "metadata": {
        "id": "8Ns1GZd94WV9"
      },
      "execution_count": null,
      "outputs": []
    },
    {
      "cell_type": "code",
      "source": [
        "bb = data[:,dataframe.columns.get_loc(\"umag\"):dataframe.columns.get_loc(\"kmag\")+1]"
      ],
      "metadata": {
        "id": "3j5R9ims2o5d"
      },
      "execution_count": null,
      "outputs": []
    },
    {
      "cell_type": "code",
      "source": [
        "nb = data[:,dataframe.columns.get_loc(\"flux_nb455\"):dataframe.columns.get_loc(\"flux_nb845\")+1]"
      ],
      "metadata": {
        "id": "Au54Uq8F4gF2"
      },
      "execution_count": null,
      "outputs": []
    },
    {
      "cell_type": "code",
      "source": [
        "zspec = data[:,dataframe.columns.get_loc(\"zspec\")]"
      ],
      "metadata": {
        "id": "-dNLn7re4oy_"
      },
      "execution_count": null,
      "outputs": []
    },
    {
      "cell_type": "code",
      "source": [
        "zspec = np.reshape(zspec,[6492,1])"
      ],
      "metadata": {
        "id": "GVl_BO7G4HI2"
      },
      "execution_count": null,
      "outputs": []
    },
    {
      "cell_type": "code",
      "source": [
        "icmag = data[:,dataframe.columns.get_loc(\"icmag\")]"
      ],
      "metadata": {
        "id": "gz8a4IwA6pqD"
      },
      "execution_count": null,
      "outputs": []
    },
    {
      "cell_type": "markdown",
      "source": [
        "## Converting magnitude into fluxes"
      ],
      "metadata": {
        "id": "9ZUpcthh65OO"
      }
    },
    {
      "cell_type": "code",
      "source": [
        "nb = np.power(10, (26 - nb)/2.5)"
      ],
      "metadata": {
        "id": "urNCxz4S68SV"
      },
      "execution_count": null,
      "outputs": []
    },
    {
      "cell_type": "code",
      "source": [
        "bb = np.power(10, (26 - bb)/2.5)"
      ],
      "metadata": {
        "id": "jgNubtPf8KWa"
      },
      "execution_count": null,
      "outputs": []
    },
    {
      "cell_type": "markdown",
      "source": [
        "## Normalizing the Data"
      ],
      "metadata": {
        "id": "P3TyfQfc8VjJ"
      }
    },
    {
      "cell_type": "code",
      "source": [
        "for i in range(len(bb)):\n",
        "  result_bb = np.linalg.norm(bb[i])\n",
        "  bb[i] = bb[i]/result_bb\n",
        "\n",
        "  result_nb = np.linalg.norm(nb[i])\n",
        "  nb[i] = nb[i]/result_nb"
      ],
      "metadata": {
        "colab": {
          "base_uri": "https://localhost:8080/"
        },
        "id": "Wn92PB668Tx4",
        "outputId": "ca53b6fc-44e7-40f3-d890-1c1f5900b4a7"
      },
      "execution_count": null,
      "outputs": [
        {
          "output_type": "stream",
          "name": "stderr",
          "text": [
            "/usr/local/lib/python3.7/dist-packages/ipykernel_launcher.py:6: RuntimeWarning: divide by zero encountered in true_divide\n",
            "  \n",
            "/usr/local/lib/python3.7/dist-packages/ipykernel_launcher.py:6: RuntimeWarning: invalid value encountered in true_divide\n",
            "  \n"
          ]
        }
      ]
    },
    {
      "cell_type": "markdown",
      "source": [
        "# MTL architecture"
      ],
      "metadata": {
        "id": "T3i8DF_8SJ9b"
      }
    },
    {
      "cell_type": "code",
      "source": [
        "import torch\n",
        "import torch.nn as nn\n",
        "import torch.nn.functional as F"
      ],
      "metadata": {
        "id": "hHGncfyI9Y47"
      },
      "execution_count": null,
      "outputs": []
    },
    {
      "cell_type": "code",
      "source": [
        "class MTL(nn.Module):\n",
        "  def __init__(self):\n",
        "    super(MTL,self).__init__()\n",
        "    self.l1 = nn.Linear(9,9)\n",
        "    self.d1 = nn.Dropout(p = 0.02)\n",
        "    self.l2 = nn.Linear(9, 300)\n",
        "    self.d2 = nn.Dropout(p = 0.02)\n",
        "    self.l3 = nn.Linear(300, 500)\n",
        "    self.d3 = nn.Dropout(p = 0.02)\n",
        "    self.l4 = nn.Linear(500,1000)\n",
        "    self.d4 = nn.Dropout(p = 0.02)\n",
        "    self.l5 = nn.Linear(1000,500)\n",
        "\n",
        "    self.d5 = nn.Dropout(p = 0.02)\n",
        "    self.nb = nn.Linear(500,40)\n",
        "\n",
        "    self.d6 = nn.Dropout(p = 0.02)\n",
        "    self.l6 = nn.Linear(500,300)\n",
        "    self.pz = nn.Linear(300,1)\n",
        "\n",
        "  def forward(self, x):\n",
        "    m = nn.GELU()\n",
        "    x = m(self.l1(x))\n",
        "    x = self.d1(x)\n",
        "    x = m(self.l2(x))\n",
        "    x = self.d2(x)\n",
        "    x = m(self.l3(x))\n",
        "    x = self.d3(x)\n",
        "    x = m(self.l4(x))\n",
        "    x = self.d4(x)\n",
        "    x = m(self.l5(x))\n",
        "\n",
        "    nband = self.d5(x)\n",
        "    nband = m(self.nb(nband))\n",
        "\n",
        "    photoz = self.d6(x)\n",
        "    photoz = m(self.l6(photoz))\n",
        "    photoz = m(self.pz(photoz))\n",
        "\n",
        "    return nband, photoz\n",
        "\n",
        "\n",
        "\n",
        "mtl = MTL()\n",
        "print(mtl)"
      ],
      "metadata": {
        "colab": {
          "base_uri": "https://localhost:8080/"
        },
        "id": "HKw7DWJWSZB3",
        "outputId": "fc15c6fd-0c86-400c-9e68-885c65edf20a"
      },
      "execution_count": null,
      "outputs": [
        {
          "output_type": "stream",
          "name": "stdout",
          "text": [
            "MTL(\n",
            "  (l1): Linear(in_features=9, out_features=9, bias=True)\n",
            "  (d1): Dropout(p=0.02, inplace=False)\n",
            "  (l2): Linear(in_features=9, out_features=300, bias=True)\n",
            "  (d2): Dropout(p=0.02, inplace=False)\n",
            "  (l3): Linear(in_features=300, out_features=500, bias=True)\n",
            "  (d3): Dropout(p=0.02, inplace=False)\n",
            "  (l4): Linear(in_features=500, out_features=1000, bias=True)\n",
            "  (d4): Dropout(p=0.02, inplace=False)\n",
            "  (l5): Linear(in_features=1000, out_features=500, bias=True)\n",
            "  (d5): Dropout(p=0.02, inplace=False)\n",
            "  (nb): Linear(in_features=500, out_features=40, bias=True)\n",
            "  (d6): Dropout(p=0.02, inplace=False)\n",
            "  (l6): Linear(in_features=500, out_features=300, bias=True)\n",
            "  (pz): Linear(in_features=300, out_features=1, bias=True)\n",
            ")\n"
          ]
        }
      ]
    },
    {
      "cell_type": "markdown",
      "source": [
        "# Linear network Architecture"
      ],
      "metadata": {
        "id": "cyqC5mboS6M-"
      }
    },
    {
      "cell_type": "code",
      "source": [
        "class LinNet(nn.Module):\n",
        "  def __init__(self):\n",
        "    super(LinNet,self).__init__()\n",
        "    self.l1 = nn.Linear(9,9)\n",
        "    self.d1 = nn.Dropout(p = 0.02)\n",
        "    self.l2 = nn.Linear(9, 300)\n",
        "    self.d2 = nn.Dropout(p = 0.02)\n",
        "    self.l3 = nn.Linear(300, 500)\n",
        "    self.d3 = nn.Dropout(p = 0.02)\n",
        "    self.l4 = nn.Linear(500,1000)\n",
        "    self.d4 = nn.Dropout(p = 0.02)\n",
        "    self.l5 = nn.Linear(1000,500)\n",
        "\n",
        "    self.d6 = nn.Dropout(p = 0.02)\n",
        "    self.l6 = nn.Linear(500,300)\n",
        "    self.pz = nn.Linear(300,1)\n",
        "\n",
        "  def forward(self, x):\n",
        "    m = nn.GELU()\n",
        "    x = m(self.l1(x))\n",
        "    x = self.d1(x)\n",
        "    x = m(self.l2(x))\n",
        "    x = self.d2(x)\n",
        "    x = m(self.l3(x))\n",
        "    x = self.d3(x)\n",
        "    x = m(self.l4(x))\n",
        "    x = self.d4(x)\n",
        "    x = m(self.l5(x))\n",
        "\n",
        "    photoz = self.d6(x)\n",
        "    photoz = m(self.l6(photoz))\n",
        "    photoz = m(self.pz(photoz))\n",
        "\n",
        "    return photoz\n",
        "\n",
        "\n",
        "\n",
        "linear = LinNet()\n",
        "print(linear)"
      ],
      "metadata": {
        "colab": {
          "base_uri": "https://localhost:8080/"
        },
        "id": "VPXfCXdpStjz",
        "outputId": "62522484-c4f5-4bbc-880d-b1c166e63758"
      },
      "execution_count": null,
      "outputs": [
        {
          "output_type": "stream",
          "name": "stdout",
          "text": [
            "LinNet(\n",
            "  (l1): Linear(in_features=9, out_features=9, bias=True)\n",
            "  (d1): Dropout(p=0.02, inplace=False)\n",
            "  (l2): Linear(in_features=9, out_features=300, bias=True)\n",
            "  (d2): Dropout(p=0.02, inplace=False)\n",
            "  (l3): Linear(in_features=300, out_features=500, bias=True)\n",
            "  (d3): Dropout(p=0.02, inplace=False)\n",
            "  (l4): Linear(in_features=500, out_features=1000, bias=True)\n",
            "  (d4): Dropout(p=0.02, inplace=False)\n",
            "  (l5): Linear(in_features=1000, out_features=500, bias=True)\n",
            "  (d6): Dropout(p=0.02, inplace=False)\n",
            "  (l6): Linear(in_features=500, out_features=300, bias=True)\n",
            "  (pz): Linear(in_features=300, out_features=1, bias=True)\n",
            ")\n"
          ]
        }
      ]
    },
    {
      "cell_type": "markdown",
      "source": [
        "# Optimizer and Loss Function"
      ],
      "metadata": {
        "id": "JwYnvDE6UYgg"
      }
    },
    {
      "cell_type": "code",
      "source": [
        "import torch.optim as optim\n",
        "\n",
        "criterion_pz = nn.MSELoss()\n",
        "criterion_nb = nn.L1Loss()\n",
        "\n",
        "optimizer1 = optim.Adam(mtl.parameters(), lr=0.001)\n",
        "scheduler1 = optim.lr_scheduler.StepLR(optimizer1, step_size=25, gamma=0.1)\n",
        "\n",
        "optimizer2 = optim.Adam(linear.parameters(), lr=0.001)\n",
        "scheduler2 = optim.lr_scheduler.StepLR(optimizer2, step_size=25, gamma=0.1)"
      ],
      "metadata": {
        "id": "7IbYfOLsUTPj"
      },
      "execution_count": null,
      "outputs": []
    },
    {
      "cell_type": "markdown",
      "source": [
        "### Converting into tensors"
      ],
      "metadata": {
        "id": "-_FBVkUNVWt6"
      }
    },
    {
      "cell_type": "code",
      "source": [
        "tensor_zspec = torch.from_numpy(zspec)\n",
        "tensor_zspec = tensor_zspec.to(torch.float32)"
      ],
      "metadata": {
        "id": "wWytFm1HUh8z"
      },
      "execution_count": null,
      "outputs": []
    },
    {
      "cell_type": "code",
      "source": [
        "tensor_zspec.shape"
      ],
      "metadata": {
        "colab": {
          "base_uri": "https://localhost:8080/"
        },
        "id": "Euc1rBW_kAFp",
        "outputId": "47d6583b-ba2a-4f03-dd97-b7df36b38df6"
      },
      "execution_count": null,
      "outputs": [
        {
          "output_type": "execute_result",
          "data": {
            "text/plain": [
              "torch.Size([6492, 1])"
            ]
          },
          "metadata": {},
          "execution_count": 179
        }
      ]
    },
    {
      "cell_type": "code",
      "source": [
        "tensor_bb = torch.from_numpy(bb)\n",
        "tensor_bb = tensor_bb.to(torch.float32)"
      ],
      "metadata": {
        "id": "2sRiTVFQWEoB"
      },
      "execution_count": null,
      "outputs": []
    },
    {
      "cell_type": "code",
      "source": [
        "tensor_nb = torch.from_numpy(nb)\n",
        "tensor_nb = tensor_nb.to(torch.float32)"
      ],
      "metadata": {
        "id": "SgiXdcRIWSGF"
      },
      "execution_count": null,
      "outputs": []
    },
    {
      "cell_type": "markdown",
      "source": [
        "### Splitting into testing and training data"
      ],
      "metadata": {
        "id": "_5zoyidAWlNH"
      }
    },
    {
      "cell_type": "code",
      "source": [
        "from sklearn.model_selection import train_test_split\n",
        "bb_train, bb_test, nb_train, nb_test, pz_train, pz_test, icmag_train, icmag_test = train_test_split(tensor_bb, tensor_nb, tensor_zspec, icmag, test_size = 0.2, shuffle=True)"
      ],
      "metadata": {
        "id": "ZE3r1yHgWjTT"
      },
      "execution_count": null,
      "outputs": []
    },
    {
      "cell_type": "markdown",
      "source": [
        "# Training the model\n",
        "\n",
        "## MTL model"
      ],
      "metadata": {
        "id": "vpqOo6VhXSDd"
      }
    },
    {
      "cell_type": "code",
      "source": [
        "batch_size = 10\n",
        "num_batches = int(len(bb_train)/batch_size)\n",
        "\n",
        "for epoch in range(100):  # loop over the dataset multiple times\n",
        "    #running_loss = 0.0\n",
        "    for i in list(range(0, num_batches, 1)):\n",
        "\n",
        "        # zero the parameter gradients\n",
        "        optimizer1.zero_grad()\n",
        "\n",
        "        # forward + backward + optimize\n",
        "        nband, photoz = mtl(bb_train[i*batch_size: (i+1)*batch_size][:])\n",
        "        #nband, photoz = net(bb_train[i])\n",
        "        #loss1 = criterion_pz(photoz, pz_train[i])\n",
        "        #loss2 = criterion_nb(nband, nb_train[i])\n",
        "        loss1 = criterion_pz(photoz, pz_train[i*batch_size: (i+1)*batch_size][:])\n",
        "        loss2 = criterion_nb(nband, nb_train[i*batch_size: (i+1)*batch_size][:])\n",
        "        loss = loss1 + loss2\n",
        "        #optimizer.zero_grad()\n",
        "        loss.backward()\n",
        "        optimizer1.step()\n",
        "\n",
        "        # print statistics\n",
        "        # running_loss += loss1.item()\n",
        "        # if i % 200 == 199:    # print every 2000 mini-batches\n",
        "        #     print(f'[{epoch + 1}, {i + 1:5d}] loss: {running_loss / 200:.3f}')\n",
        "        #     running_loss = 0.0\n",
        "    print(f'[{epoch + 1}] loss: {loss1:.3f}')\n",
        "    scheduler1.step()\n",
        "print('Finished Training')"
      ],
      "metadata": {
        "colab": {
          "base_uri": "https://localhost:8080/"
        },
        "id": "q5f4Uc0kXQQ6",
        "outputId": "6346c1f4-28f1-40d8-ca3e-f2aa012a2731"
      },
      "execution_count": null,
      "outputs": [
        {
          "output_type": "stream",
          "name": "stdout",
          "text": [
            "[1] loss: 0.073\n",
            "[2] loss: 0.089\n",
            "[3] loss: 0.043\n",
            "[4] loss: 0.046\n",
            "[5] loss: 0.034\n",
            "[6] loss: 0.031\n",
            "[7] loss: 0.032\n",
            "[8] loss: 0.029\n",
            "[9] loss: 0.032\n",
            "[10] loss: 0.031\n",
            "[11] loss: 0.036\n",
            "[12] loss: 0.021\n",
            "[13] loss: 0.018\n",
            "[14] loss: 0.012\n",
            "[15] loss: 0.019\n",
            "[16] loss: 0.010\n",
            "[17] loss: 0.015\n",
            "[18] loss: 0.013\n",
            "[19] loss: 0.008\n",
            "[20] loss: 0.012\n",
            "[21] loss: 0.015\n",
            "[22] loss: 0.008\n",
            "[23] loss: 0.012\n",
            "[24] loss: 0.010\n",
            "[25] loss: 0.016\n",
            "[26] loss: 0.011\n",
            "[27] loss: 0.012\n",
            "[28] loss: 0.012\n",
            "[29] loss: 0.010\n",
            "[30] loss: 0.025\n",
            "[31] loss: 0.010\n",
            "[32] loss: 0.012\n",
            "[33] loss: 0.009\n",
            "[34] loss: 0.007\n",
            "[35] loss: 0.010\n",
            "[36] loss: 0.011\n",
            "[37] loss: 0.010\n",
            "[38] loss: 0.009\n",
            "[39] loss: 0.009\n",
            "[40] loss: 0.011\n",
            "[41] loss: 0.009\n",
            "[42] loss: 0.015\n",
            "[43] loss: 0.009\n",
            "[44] loss: 0.012\n",
            "[45] loss: 0.010\n",
            "[46] loss: 0.010\n",
            "[47] loss: 0.010\n",
            "[48] loss: 0.010\n",
            "[49] loss: 0.010\n",
            "[50] loss: 0.011\n",
            "[51] loss: 0.010\n",
            "[52] loss: 0.009\n",
            "[53] loss: 0.011\n",
            "[54] loss: 0.010\n",
            "[55] loss: 0.009\n",
            "[56] loss: 0.010\n",
            "[57] loss: 0.010\n",
            "[58] loss: 0.007\n",
            "[59] loss: 0.009\n",
            "[60] loss: 0.009\n",
            "[61] loss: 0.009\n",
            "[62] loss: 0.009\n",
            "[63] loss: 0.009\n",
            "[64] loss: 0.010\n",
            "[65] loss: 0.009\n",
            "[66] loss: 0.011\n",
            "[67] loss: 0.010\n",
            "[68] loss: 0.009\n",
            "[69] loss: 0.010\n",
            "[70] loss: 0.010\n",
            "[71] loss: 0.009\n",
            "[72] loss: 0.009\n",
            "[73] loss: 0.010\n",
            "[74] loss: 0.011\n",
            "[75] loss: 0.010\n",
            "[76] loss: 0.011\n",
            "[77] loss: 0.010\n",
            "[78] loss: 0.009\n",
            "[79] loss: 0.009\n",
            "[80] loss: 0.009\n",
            "[81] loss: 0.009\n",
            "[82] loss: 0.010\n",
            "[83] loss: 0.013\n",
            "[84] loss: 0.009\n",
            "[85] loss: 0.010\n",
            "[86] loss: 0.010\n",
            "[87] loss: 0.010\n",
            "[88] loss: 0.012\n",
            "[89] loss: 0.009\n",
            "[90] loss: 0.006\n",
            "[91] loss: 0.009\n",
            "[92] loss: 0.010\n",
            "[93] loss: 0.011\n",
            "[94] loss: 0.008\n",
            "[95] loss: 0.011\n",
            "[96] loss: 0.013\n",
            "[97] loss: 0.022\n",
            "[98] loss: 0.009\n",
            "[99] loss: 0.006\n",
            "[100] loss: 0.009\n",
            "Finished Training\n"
          ]
        }
      ]
    },
    {
      "cell_type": "code",
      "source": [
        "predicted_nb, predicted_pz = mtl(bb_test)"
      ],
      "metadata": {
        "id": "z8FecvAsXB--"
      },
      "execution_count": null,
      "outputs": []
    },
    {
      "cell_type": "code",
      "source": [
        "x = pz_test.detach().numpy()\n",
        "y = predicted_pz.detach().numpy()\n",
        "\n",
        "import matplotlib.pyplot as plt\n",
        "\n",
        "\n",
        "fig = plt.figure(figsize=(15, 10))\n",
        "fig.tight_layout()\n",
        "\n",
        "plt.title('Photometric Redshift Prediction from a Multitask Neural Network')\n",
        "plt.scatter(x,y, alpha = 0.3)\n",
        "plt.plot(x,x, 'b-')\n",
        "plt.grid(visible = True)\n",
        "plt.xlabel('True redshift')\n",
        "plt.ylabel('Predicted redshift')\n",
        "plt.savefig('MTL.png')\n",
        "plt.text(0.0,1.0,\"$\\sigma_{68}$ = 0.024114\\nMedian = 0.001138\\nOutlier Rate = 0.010777\",fontsize = 'xx-large')"
      ],
      "metadata": {
        "colab": {
          "base_uri": "https://localhost:8080/",
          "height": 638
        },
        "id": "Hw60edTU94w_",
        "outputId": "8a8de7de-531a-40a8-8c4e-3ab1b9712559"
      },
      "execution_count": null,
      "outputs": [
        {
          "output_type": "execute_result",
          "data": {
            "text/plain": [
              "Text(0.0, 1.0, '$\\\\sigma_{68}$ = 0.024114\\nMedian = 0.001138\\nOutlier Rate = 0.010777')"
            ]
          },
          "metadata": {},
          "execution_count": 228
        },
        {
          "output_type": "display_data",
          "data": {
            "text/plain": [
              "<Figure size 1080x720 with 1 Axes>"
            ],
            "image/png": "[encoded data removed]"
          },
          "metadata": {
            "needs_background": "light"
          }
        }
      ]
    },
    {
      "cell_type": "code",
      "source": [
        "PATH = 'mtl_final.pt'\n",
        "torch.save(mtl,PATH)"
      ],
      "metadata": {
        "id": "VR1e-6ob9_FF"
      },
      "execution_count": null,
      "outputs": []
    },
    {
      "cell_type": "markdown",
      "source": [
        "## Linear model"
      ],
      "metadata": {
        "id": "er1wfRE2-eFS"
      }
    },
    {
      "cell_type": "code",
      "source": [
        "batch_size = 10\n",
        "num_batches = int(len(bb_train)/batch_size)\n",
        "\n",
        "for epoch in range(100):  # loop over the dataset multiple times\n",
        "    #running_loss = 0.0\n",
        "    for i in list(range(0, num_batches, 1)):\n",
        "\n",
        "        # zero the parameter gradients\n",
        "        optimizer2.zero_grad()\n",
        "\n",
        "        # forward + backward + optimize\n",
        "        photoz = linear(bb_train[i*batch_size: (i+1)*batch_size][:])\n",
        "        #nband, photoz = net(bb_train[i])\n",
        "        #loss1 = criterion_pz(photoz, pz_train[i])\n",
        "        #loss2 = criterion_nb(nband, nb_train[i])\n",
        "        loss1 = criterion_pz(photoz, pz_train[i*batch_size: (i+1)*batch_size][:])\n",
        "        #loss2 = criterion_nb(nband, nb_train[i*batch_size: (i+1)*batch_size][:])\n",
        "        #loss = loss1 + loss2\n",
        "        #optimizer.zero_grad()\n",
        "        loss1.backward()\n",
        "        optimizer2.step()\n",
        "\n",
        "        # print statistics\n",
        "        # running_loss += loss1.item()\n",
        "        # if i % 200 == 199:    # print every 2000 mini-batches\n",
        "        #     print(f'[{epoch + 1}, {i + 1:5d}] loss: {running_loss / 200:.3f}')\n",
        "        #     running_loss = 0.0\n",
        "    print(f'[{epoch + 1}] loss: {loss1:.3f}')\n",
        "    scheduler2.step()\n",
        "print('Finished Training')"
      ],
      "metadata": {
        "colab": {
          "base_uri": "https://localhost:8080/"
        },
        "id": "evYNiwKa-M_f",
        "outputId": "a06e9b5a-87ba-470b-8829-6ed8dd568727"
      },
      "execution_count": null,
      "outputs": [
        {
          "output_type": "stream",
          "name": "stdout",
          "text": [
            "[1] loss: 0.041\n",
            "[2] loss: 0.035\n",
            "[3] loss: 0.038\n",
            "[4] loss: 0.063\n",
            "[5] loss: 0.054\n",
            "[6] loss: 0.033\n",
            "[7] loss: 0.035\n",
            "[8] loss: 0.021\n",
            "[9] loss: 0.019\n",
            "[10] loss: 0.022\n",
            "[11] loss: 0.029\n",
            "[12] loss: 0.012\n",
            "[13] loss: 0.010\n",
            "[14] loss: 0.017\n",
            "[15] loss: 0.012\n",
            "[16] loss: 0.011\n",
            "[17] loss: 0.012\n",
            "[18] loss: 0.029\n",
            "[19] loss: 0.017\n",
            "[20] loss: 0.012\n",
            "[21] loss: 0.013\n",
            "[22] loss: 0.009\n",
            "[23] loss: 0.015\n",
            "[24] loss: 0.008\n",
            "[25] loss: 0.015\n",
            "[26] loss: 0.010\n",
            "[27] loss: 0.006\n",
            "[28] loss: 0.009\n",
            "[29] loss: 0.010\n",
            "[30] loss: 0.009\n",
            "[31] loss: 0.008\n",
            "[32] loss: 0.009\n",
            "[33] loss: 0.010\n",
            "[34] loss: 0.007\n",
            "[35] loss: 0.009\n",
            "[36] loss: 0.008\n",
            "[37] loss: 0.009\n",
            "[38] loss: 0.008\n",
            "[39] loss: 0.008\n",
            "[40] loss: 0.007\n",
            "[41] loss: 0.008\n",
            "[42] loss: 0.009\n",
            "[43] loss: 0.008\n",
            "[44] loss: 0.007\n",
            "[45] loss: 0.009\n",
            "[46] loss: 0.008\n",
            "[47] loss: 0.009\n",
            "[48] loss: 0.009\n",
            "[49] loss: 0.008\n",
            "[50] loss: 0.008\n",
            "[51] loss: 0.009\n",
            "[52] loss: 0.008\n",
            "[53] loss: 0.010\n",
            "[54] loss: 0.010\n",
            "[55] loss: 0.008\n",
            "[56] loss: 0.008\n",
            "[57] loss: 0.009\n",
            "[58] loss: 0.010\n",
            "[59] loss: 0.009\n",
            "[60] loss: 0.009\n",
            "[61] loss: 0.009\n",
            "[62] loss: 0.011\n",
            "[63] loss: 0.010\n",
            "[64] loss: 0.011\n",
            "[65] loss: 0.011\n",
            "[66] loss: 0.010\n",
            "[67] loss: 0.008\n",
            "[68] loss: 0.010\n",
            "[69] loss: 0.009\n",
            "[70] loss: 0.010\n",
            "[71] loss: 0.010\n",
            "[72] loss: 0.009\n",
            "[73] loss: 0.009\n",
            "[74] loss: 0.010\n",
            "[75] loss: 0.010\n",
            "[76] loss: 0.009\n",
            "[77] loss: 0.011\n",
            "[78] loss: 0.010\n",
            "[79] loss: 0.009\n",
            "[80] loss: 0.010\n",
            "[81] loss: 0.009\n",
            "[82] loss: 0.011\n",
            "[83] loss: 0.009\n",
            "[84] loss: 0.010\n",
            "[85] loss: 0.009\n",
            "[86] loss: 0.011\n",
            "[87] loss: 0.010\n",
            "[88] loss: 0.008\n",
            "[89] loss: 0.009\n",
            "[90] loss: 0.009\n",
            "[91] loss: 0.009\n",
            "[92] loss: 0.009\n",
            "[93] loss: 0.009\n",
            "[94] loss: 0.008\n",
            "[95] loss: 0.010\n",
            "[96] loss: 0.011\n",
            "[97] loss: 0.010\n",
            "[98] loss: 0.008\n",
            "[99] loss: 0.008\n",
            "[100] loss: 0.010\n",
            "Finished Training\n"
          ]
        }
      ]
    },
    {
      "cell_type": "code",
      "source": [
        "PATH = 'linear_final.pt'\n",
        "torch.save(linear,PATH)"
      ],
      "metadata": {
        "id": "ZHCTTna2-w_L"
      },
      "execution_count": null,
      "outputs": []
    },
    {
      "cell_type": "code",
      "source": [
        "predicted_linear_pz = linear(bb_test)"
      ],
      "metadata": {
        "id": "nfi_NwgFB9CC"
      },
      "execution_count": null,
      "outputs": []
    },
    {
      "cell_type": "code",
      "source": [
        "x = pz_test.detach().numpy()\n",
        "y = predicted_linear_pz.detach().numpy()\n",
        "import matplotlib.pyplot as plt\n",
        "\n",
        "fig = plt.figure(figsize=(15, 10))\n",
        "fig.tight_layout()\n",
        "\n",
        "plt.title('Photometric Redshift Prediction using a Linear Neural Network')\n",
        "plt.scatter(x,y, alpha = 0.3)\n",
        "plt.plot(x,x, 'r-')\n",
        "plt.xlabel('True redshift')\n",
        "plt.ylabel('Predicted redshift')\n",
        "plt.grid(visible = True)\n",
        "plt.text(0.0,2.0,\"$\\sigma_{68}$ = 0.029615\\nMedian = 0.001848\\nOutlier Rate = 0.010007\",fontsize = 'xx-large')"
      ],
      "metadata": {
        "colab": {
          "base_uri": "https://localhost:8080/",
          "height": 638
        },
        "id": "gJ4yCq9XCEyL",
        "outputId": "80aea69b-9a68-46d1-daf9-16896677c443"
      },
      "execution_count": null,
      "outputs": [
        {
          "output_type": "execute_result",
          "data": {
            "text/plain": [
              "Text(0.0, 2.0, '$\\\\sigma_{68}$ = 0.029615\\nMedian = 0.001848\\nOutlier Rate = 0.010007')"
            ]
          },
          "metadata": {},
          "execution_count": 229
        },
        {
          "output_type": "display_data",
          "data": {
            "text/plain": [
              "<Figure size 1080x720 with 1 Axes>"
            ],
            "image/png": "[encoded data removed]"
          },
          "metadata": {
            "needs_background": "light"
          }
        }
      ]
    },
    {
      "cell_type": "markdown",
      "source": [
        "# Metrics for Comparison"
      ],
      "metadata": {
        "id": "QWzDnXgkE4T3"
      }
    },
    {
      "cell_type": "code",
      "source": [
        "delta_z_linear = np.ones([len(pz_test),1])\n",
        "delta_z_mtl = np.ones([len(pz_test),1])\n",
        "\n",
        "zp1 = predicted_linear_pz.detach().numpy()\n",
        "zt1 = pz_test.detach().numpy()\n",
        "\n",
        "zp2 = predicted_pz.detach().numpy()\n",
        "\n",
        "for i in range(len(pz_test)):\n",
        "  delta_z_linear[i] = (zp1[i] - zt1[i])/(1 + zt1[i])\n",
        "  delta_z_mtl[i] = (zp2[i] - zt1[i])/(1 + zt1[i])"
      ],
      "metadata": {
        "id": "QaJDRTzjCKuV"
      },
      "execution_count": null,
      "outputs": []
    },
    {
      "cell_type": "code",
      "source": [
        "dispersion_mtl = 0.5*(np.percentile(delta_z_mtl,84) - np.percentile(delta_z_mtl,16))"
      ],
      "metadata": {
        "id": "_jvtYwdqHcOo"
      },
      "execution_count": null,
      "outputs": []
    },
    {
      "cell_type": "code",
      "source": [
        "dispersion_linear = 0.5*(np.percentile(delta_z_linear,84) - np.percentile(delta_z_linear,16))"
      ],
      "metadata": {
        "id": "yKKqSoyJJKKS"
      },
      "execution_count": null,
      "outputs": []
    },
    {
      "cell_type": "code",
      "source": [
        "dispersion_mtl"
      ],
      "metadata": {
        "colab": {
          "base_uri": "https://localhost:8080/"
        },
        "id": "dz15B5mDJX3D",
        "outputId": "950e7052-fa2b-4892-8a26-2c14a9f97912"
      },
      "execution_count": null,
      "outputs": [
        {
          "output_type": "execute_result",
          "data": {
            "text/plain": [
              "0.02961581137031316"
            ]
          },
          "metadata": {},
          "execution_count": 206
        }
      ]
    },
    {
      "cell_type": "code",
      "source": [
        "dispersion_linear"
      ],
      "metadata": {
        "colab": {
          "base_uri": "https://localhost:8080/"
        },
        "id": "geAB06ifJZx4",
        "outputId": "13cbf9a3-d865-440a-a8f6-522744d0e6a6"
      },
      "execution_count": null,
      "outputs": [
        {
          "output_type": "execute_result",
          "data": {
            "text/plain": [
              "0.024114095978438853"
            ]
          },
          "metadata": {},
          "execution_count": 207
        }
      ]
    },
    {
      "cell_type": "code",
      "source": [
        "median_mtl = np.median(delta_z_mtl)\n",
        "median_mtl"
      ],
      "metadata": {
        "colab": {
          "base_uri": "https://localhost:8080/"
        },
        "id": "HGoRUN1tJbxK",
        "outputId": "ef492198-dc88-4f4f-a002-8b96d23cf0fb"
      },
      "execution_count": null,
      "outputs": [
        {
          "output_type": "execute_result",
          "data": {
            "text/plain": [
              "0.0011382726952433586"
            ]
          },
          "metadata": {},
          "execution_count": 209
        }
      ]
    },
    {
      "cell_type": "code",
      "source": [
        "median_linear = np.median(delta_z_linear)\n",
        "median_linear"
      ],
      "metadata": {
        "colab": {
          "base_uri": "https://localhost:8080/"
        },
        "id": "-pgegJm8J6fP",
        "outputId": "bc03827d-148a-42fc-f8a6-3d61c107e70c"
      },
      "execution_count": null,
      "outputs": [
        {
          "output_type": "execute_result",
          "data": {
            "text/plain": [
              "0.0018482932355254889"
            ]
          },
          "metadata": {},
          "execution_count": 210
        }
      ]
    },
    {
      "cell_type": "code",
      "source": [
        "delta_z_linear_mod = np.ones([len(pz_test),1])\n",
        "delta_z_mtl_mod = np.ones([len(pz_test),1])\n",
        "\n",
        "zp1 = predicted_linear_pz.detach().numpy()\n",
        "zt1 = pz_test.detach().numpy()\n",
        "\n",
        "zp2 = predicted_pz.detach().numpy()\n",
        "\n",
        "outlier_mtl = 0\n",
        "outlier_linear = 0\n",
        "\n",
        "for i in range(len(pz_test)):\n",
        "  delta_z_linear_mod[i] = abs(zp1[i] - zt1[i])/(1 + zt1[i])\n",
        "  delta_z_mtl_mod[i] = abs(zp2[i] - zt1[i])/(1 + zt1[i])\n",
        "\n",
        "for i in range(len(pz_test)):\n",
        "  if delta_z_linear_mod[i] > 0.15:\n",
        "    outlier_linear = outlier_linear + 1\n",
        "\n",
        "  if delta_z_mtl_mod[i] > 0.15:\n",
        "    outlier_mtl = outlier_mtl + 1\n",
        "\n",
        "mtl_outliers = outlier_mtl/len(pz_test)\n",
        "linear_outliers = outlier_linear/len(pz_test)"
      ],
      "metadata": {
        "id": "n_MauKkLKDLS"
      },
      "execution_count": null,
      "outputs": []
    },
    {
      "cell_type": "code",
      "source": [
        "print('MTL Outliers: ', mtl_outliers)\n",
        "print('Linear Outliers: ', linear_outliers)"
      ],
      "metadata": {
        "colab": {
          "base_uri": "https://localhost:8080/"
        },
        "id": "0xjNE368M0-C",
        "outputId": "06da0a4a-e052-4ff4-ba5a-18584d4db9ab"
      },
      "execution_count": null,
      "outputs": [
        {
          "output_type": "stream",
          "name": "stdout",
          "text": [
            "MTL Outliers:  0.01077752117013087\n",
            "Linear Outliers:  0.010007698229407237\n"
          ]
        }
      ]
    },
    {
      "cell_type": "code",
      "source": [
        "plt.scatter(icmag_test,delta_z_mtl_mod,alpha = 0.3)"
      ],
      "metadata": {
        "colab": {
          "base_uri": "https://localhost:8080/",
          "height": 282
        },
        "id": "qN8Mc18yK8w1",
        "outputId": "8d69e81e-4be1-40a7-d1fb-d02eabe0b722"
      },
      "execution_count": null,
      "outputs": [
        {
          "output_type": "execute_result",
          "data": {
            "text/plain": [
              "<matplotlib.collections.PathCollection at 0x7f92a6126d50>"
            ]
          },
          "metadata": {},
          "execution_count": 215
        },
        {
          "output_type": "display_data",
          "data": {
            "text/plain": [
              "<Figure size 432x288 with 1 Axes>"
            ],
            "image/png": "[encoded data removed]"
          },
          "metadata": {
            "needs_background": "light"
          }
        }
      ]
    },
    {
      "cell_type": "code",
      "source": [
        "plt.scatter(icmag_test,delta_z_linear_mod,alpha = 0.3)"
      ],
      "metadata": {
        "colab": {
          "base_uri": "https://localhost:8080/",
          "height": 282
        },
        "id": "KJ5MIKHVLK4V",
        "outputId": "812d1590-9fab-4724-a048-629ba2f01145"
      },
      "execution_count": null,
      "outputs": [
        {
          "output_type": "execute_result",
          "data": {
            "text/plain": [
              "<matplotlib.collections.PathCollection at 0x7f92a6096810>"
            ]
          },
          "metadata": {},
          "execution_count": 216
        },
        {
          "output_type": "display_data",
          "data": {
            "text/plain": [
              "<Figure size 432x288 with 1 Axes>"
            ],
            "image/png": "[encoded data removed]"
          },
          "metadata": {
            "needs_background": "light"
          }
        }
      ]
    },
    {
      "cell_type": "code",
      "source": [],
      "metadata": {
        "id": "P5zTcL_7Lean"
      },
      "execution_count": null,
      "outputs": []
    }
  ]
}